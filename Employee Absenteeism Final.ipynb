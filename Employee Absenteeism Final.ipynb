{
 "cells": [
  {
   "cell_type": "markdown",
   "metadata": {},
   "source": [
    "# Problem : Employee Absenteeism\n",
    "\n"
   ]
  },
  {
   "cell_type": "code",
   "execution_count": 54,
   "metadata": {},
   "outputs": [],
   "source": [
    "#Load Libraries\n",
    "import os\n",
    "import pandas as pd\n",
    "import numpy as np\n",
    "from fancyimpute import KNN\n",
    "from scipy.stats import chi2_contingency"
   ]
  },
  {
   "cell_type": "code",
   "execution_count": 55,
   "metadata": {},
   "outputs": [],
   "source": [
    "#Loading dataSet\n",
    "os.chdir(\"/Users/bhartisharma/Desktop/Employee Absenteeism\")\n",
    "dataset = pd.read_excel(\"Absenteeism_at_work_Project.xls\")"
   ]
  },
  {
   "cell_type": "code",
   "execution_count": 56,
   "metadata": {},
   "outputs": [],
   "source": [
    "dataset_copy = pd.read_excel(\"Absenteeism_at_work_Project.xls\")"
   ]
  },
  {
   "cell_type": "markdown",
   "metadata": {},
   "source": [
    "# Data"
   ]
  },
  {
   "cell_type": "code",
   "execution_count": 57,
   "metadata": {
    "scrolled": true
   },
   "outputs": [
    {
     "data": {
      "text/html": [
       "<div>\n",
       "<style scoped>\n",
       "    .dataframe tbody tr th:only-of-type {\n",
       "        vertical-align: middle;\n",
       "    }\n",
       "\n",
       "    .dataframe tbody tr th {\n",
       "        vertical-align: top;\n",
       "    }\n",
       "\n",
       "    .dataframe thead th {\n",
       "        text-align: right;\n",
       "    }\n",
       "</style>\n",
       "<table border=\"1\" class=\"dataframe\">\n",
       "  <thead>\n",
       "    <tr style=\"text-align: right;\">\n",
       "      <th></th>\n",
       "      <th>ID</th>\n",
       "      <th>Reason for absence</th>\n",
       "      <th>Month of absence</th>\n",
       "      <th>Day of the week</th>\n",
       "      <th>Seasons</th>\n",
       "      <th>Transportation expense</th>\n",
       "      <th>Distance from Residence to Work</th>\n",
       "      <th>Service time</th>\n",
       "      <th>Age</th>\n",
       "      <th>Work load Average/day</th>\n",
       "      <th>...</th>\n",
       "      <th>Disciplinary failure</th>\n",
       "      <th>Education</th>\n",
       "      <th>Son</th>\n",
       "      <th>Social drinker</th>\n",
       "      <th>Social smoker</th>\n",
       "      <th>Pet</th>\n",
       "      <th>Weight</th>\n",
       "      <th>Height</th>\n",
       "      <th>Body mass index</th>\n",
       "      <th>Absenteeism time in hours</th>\n",
       "    </tr>\n",
       "  </thead>\n",
       "  <tbody>\n",
       "    <tr>\n",
       "      <th>0</th>\n",
       "      <td>11</td>\n",
       "      <td>26.0</td>\n",
       "      <td>7.0</td>\n",
       "      <td>3</td>\n",
       "      <td>1</td>\n",
       "      <td>289.0</td>\n",
       "      <td>36.0</td>\n",
       "      <td>13.0</td>\n",
       "      <td>33.0</td>\n",
       "      <td>239554.0</td>\n",
       "      <td>...</td>\n",
       "      <td>0.0</td>\n",
       "      <td>1.0</td>\n",
       "      <td>2.0</td>\n",
       "      <td>1.0</td>\n",
       "      <td>0.0</td>\n",
       "      <td>1.0</td>\n",
       "      <td>90.0</td>\n",
       "      <td>172.0</td>\n",
       "      <td>30.0</td>\n",
       "      <td>4.0</td>\n",
       "    </tr>\n",
       "    <tr>\n",
       "      <th>1</th>\n",
       "      <td>36</td>\n",
       "      <td>0.0</td>\n",
       "      <td>7.0</td>\n",
       "      <td>3</td>\n",
       "      <td>1</td>\n",
       "      <td>118.0</td>\n",
       "      <td>13.0</td>\n",
       "      <td>18.0</td>\n",
       "      <td>50.0</td>\n",
       "      <td>239554.0</td>\n",
       "      <td>...</td>\n",
       "      <td>1.0</td>\n",
       "      <td>1.0</td>\n",
       "      <td>1.0</td>\n",
       "      <td>1.0</td>\n",
       "      <td>0.0</td>\n",
       "      <td>0.0</td>\n",
       "      <td>98.0</td>\n",
       "      <td>178.0</td>\n",
       "      <td>31.0</td>\n",
       "      <td>0.0</td>\n",
       "    </tr>\n",
       "    <tr>\n",
       "      <th>2</th>\n",
       "      <td>3</td>\n",
       "      <td>23.0</td>\n",
       "      <td>7.0</td>\n",
       "      <td>4</td>\n",
       "      <td>1</td>\n",
       "      <td>179.0</td>\n",
       "      <td>51.0</td>\n",
       "      <td>18.0</td>\n",
       "      <td>38.0</td>\n",
       "      <td>239554.0</td>\n",
       "      <td>...</td>\n",
       "      <td>0.0</td>\n",
       "      <td>1.0</td>\n",
       "      <td>0.0</td>\n",
       "      <td>1.0</td>\n",
       "      <td>0.0</td>\n",
       "      <td>0.0</td>\n",
       "      <td>89.0</td>\n",
       "      <td>170.0</td>\n",
       "      <td>31.0</td>\n",
       "      <td>2.0</td>\n",
       "    </tr>\n",
       "    <tr>\n",
       "      <th>3</th>\n",
       "      <td>7</td>\n",
       "      <td>7.0</td>\n",
       "      <td>7.0</td>\n",
       "      <td>5</td>\n",
       "      <td>1</td>\n",
       "      <td>279.0</td>\n",
       "      <td>5.0</td>\n",
       "      <td>14.0</td>\n",
       "      <td>39.0</td>\n",
       "      <td>239554.0</td>\n",
       "      <td>...</td>\n",
       "      <td>0.0</td>\n",
       "      <td>1.0</td>\n",
       "      <td>2.0</td>\n",
       "      <td>1.0</td>\n",
       "      <td>1.0</td>\n",
       "      <td>0.0</td>\n",
       "      <td>68.0</td>\n",
       "      <td>168.0</td>\n",
       "      <td>24.0</td>\n",
       "      <td>4.0</td>\n",
       "    </tr>\n",
       "    <tr>\n",
       "      <th>4</th>\n",
       "      <td>11</td>\n",
       "      <td>23.0</td>\n",
       "      <td>7.0</td>\n",
       "      <td>5</td>\n",
       "      <td>1</td>\n",
       "      <td>289.0</td>\n",
       "      <td>36.0</td>\n",
       "      <td>13.0</td>\n",
       "      <td>33.0</td>\n",
       "      <td>239554.0</td>\n",
       "      <td>...</td>\n",
       "      <td>0.0</td>\n",
       "      <td>1.0</td>\n",
       "      <td>2.0</td>\n",
       "      <td>1.0</td>\n",
       "      <td>0.0</td>\n",
       "      <td>1.0</td>\n",
       "      <td>90.0</td>\n",
       "      <td>172.0</td>\n",
       "      <td>30.0</td>\n",
       "      <td>2.0</td>\n",
       "    </tr>\n",
       "    <tr>\n",
       "      <th>5</th>\n",
       "      <td>3</td>\n",
       "      <td>23.0</td>\n",
       "      <td>7.0</td>\n",
       "      <td>6</td>\n",
       "      <td>1</td>\n",
       "      <td>179.0</td>\n",
       "      <td>51.0</td>\n",
       "      <td>18.0</td>\n",
       "      <td>38.0</td>\n",
       "      <td>239554.0</td>\n",
       "      <td>...</td>\n",
       "      <td>0.0</td>\n",
       "      <td>1.0</td>\n",
       "      <td>0.0</td>\n",
       "      <td>1.0</td>\n",
       "      <td>0.0</td>\n",
       "      <td>0.0</td>\n",
       "      <td>89.0</td>\n",
       "      <td>170.0</td>\n",
       "      <td>31.0</td>\n",
       "      <td>NaN</td>\n",
       "    </tr>\n",
       "    <tr>\n",
       "      <th>6</th>\n",
       "      <td>10</td>\n",
       "      <td>22.0</td>\n",
       "      <td>7.0</td>\n",
       "      <td>6</td>\n",
       "      <td>1</td>\n",
       "      <td>NaN</td>\n",
       "      <td>52.0</td>\n",
       "      <td>3.0</td>\n",
       "      <td>28.0</td>\n",
       "      <td>239554.0</td>\n",
       "      <td>...</td>\n",
       "      <td>0.0</td>\n",
       "      <td>1.0</td>\n",
       "      <td>1.0</td>\n",
       "      <td>1.0</td>\n",
       "      <td>0.0</td>\n",
       "      <td>4.0</td>\n",
       "      <td>80.0</td>\n",
       "      <td>172.0</td>\n",
       "      <td>27.0</td>\n",
       "      <td>8.0</td>\n",
       "    </tr>\n",
       "    <tr>\n",
       "      <th>7</th>\n",
       "      <td>20</td>\n",
       "      <td>23.0</td>\n",
       "      <td>7.0</td>\n",
       "      <td>6</td>\n",
       "      <td>1</td>\n",
       "      <td>260.0</td>\n",
       "      <td>50.0</td>\n",
       "      <td>11.0</td>\n",
       "      <td>36.0</td>\n",
       "      <td>239554.0</td>\n",
       "      <td>...</td>\n",
       "      <td>0.0</td>\n",
       "      <td>1.0</td>\n",
       "      <td>4.0</td>\n",
       "      <td>1.0</td>\n",
       "      <td>0.0</td>\n",
       "      <td>0.0</td>\n",
       "      <td>65.0</td>\n",
       "      <td>168.0</td>\n",
       "      <td>23.0</td>\n",
       "      <td>4.0</td>\n",
       "    </tr>\n",
       "    <tr>\n",
       "      <th>8</th>\n",
       "      <td>14</td>\n",
       "      <td>19.0</td>\n",
       "      <td>7.0</td>\n",
       "      <td>2</td>\n",
       "      <td>1</td>\n",
       "      <td>155.0</td>\n",
       "      <td>12.0</td>\n",
       "      <td>14.0</td>\n",
       "      <td>34.0</td>\n",
       "      <td>239554.0</td>\n",
       "      <td>...</td>\n",
       "      <td>0.0</td>\n",
       "      <td>1.0</td>\n",
       "      <td>2.0</td>\n",
       "      <td>1.0</td>\n",
       "      <td>0.0</td>\n",
       "      <td>0.0</td>\n",
       "      <td>95.0</td>\n",
       "      <td>196.0</td>\n",
       "      <td>25.0</td>\n",
       "      <td>40.0</td>\n",
       "    </tr>\n",
       "    <tr>\n",
       "      <th>9</th>\n",
       "      <td>1</td>\n",
       "      <td>22.0</td>\n",
       "      <td>7.0</td>\n",
       "      <td>2</td>\n",
       "      <td>1</td>\n",
       "      <td>235.0</td>\n",
       "      <td>11.0</td>\n",
       "      <td>14.0</td>\n",
       "      <td>37.0</td>\n",
       "      <td>239554.0</td>\n",
       "      <td>...</td>\n",
       "      <td>0.0</td>\n",
       "      <td>3.0</td>\n",
       "      <td>1.0</td>\n",
       "      <td>0.0</td>\n",
       "      <td>0.0</td>\n",
       "      <td>1.0</td>\n",
       "      <td>88.0</td>\n",
       "      <td>172.0</td>\n",
       "      <td>29.0</td>\n",
       "      <td>8.0</td>\n",
       "    </tr>\n",
       "  </tbody>\n",
       "</table>\n",
       "<p>10 rows × 21 columns</p>\n",
       "</div>"
      ],
      "text/plain": [
       "   ID  Reason for absence  Month of absence  Day of the week  Seasons  \\\n",
       "0  11                26.0               7.0                3        1   \n",
       "1  36                 0.0               7.0                3        1   \n",
       "2   3                23.0               7.0                4        1   \n",
       "3   7                 7.0               7.0                5        1   \n",
       "4  11                23.0               7.0                5        1   \n",
       "5   3                23.0               7.0                6        1   \n",
       "6  10                22.0               7.0                6        1   \n",
       "7  20                23.0               7.0                6        1   \n",
       "8  14                19.0               7.0                2        1   \n",
       "9   1                22.0               7.0                2        1   \n",
       "\n",
       "   Transportation expense  Distance from Residence to Work  Service time  \\\n",
       "0                   289.0                             36.0          13.0   \n",
       "1                   118.0                             13.0          18.0   \n",
       "2                   179.0                             51.0          18.0   \n",
       "3                   279.0                              5.0          14.0   \n",
       "4                   289.0                             36.0          13.0   \n",
       "5                   179.0                             51.0          18.0   \n",
       "6                     NaN                             52.0           3.0   \n",
       "7                   260.0                             50.0          11.0   \n",
       "8                   155.0                             12.0          14.0   \n",
       "9                   235.0                             11.0          14.0   \n",
       "\n",
       "    Age  Work load Average/day             ...              \\\n",
       "0  33.0                239554.0            ...               \n",
       "1  50.0                239554.0            ...               \n",
       "2  38.0                239554.0            ...               \n",
       "3  39.0                239554.0            ...               \n",
       "4  33.0                239554.0            ...               \n",
       "5  38.0                239554.0            ...               \n",
       "6  28.0                239554.0            ...               \n",
       "7  36.0                239554.0            ...               \n",
       "8  34.0                239554.0            ...               \n",
       "9  37.0                239554.0            ...               \n",
       "\n",
       "   Disciplinary failure  Education  Son  Social drinker  Social smoker  Pet  \\\n",
       "0                   0.0        1.0  2.0             1.0            0.0  1.0   \n",
       "1                   1.0        1.0  1.0             1.0            0.0  0.0   \n",
       "2                   0.0        1.0  0.0             1.0            0.0  0.0   \n",
       "3                   0.0        1.0  2.0             1.0            1.0  0.0   \n",
       "4                   0.0        1.0  2.0             1.0            0.0  1.0   \n",
       "5                   0.0        1.0  0.0             1.0            0.0  0.0   \n",
       "6                   0.0        1.0  1.0             1.0            0.0  4.0   \n",
       "7                   0.0        1.0  4.0             1.0            0.0  0.0   \n",
       "8                   0.0        1.0  2.0             1.0            0.0  0.0   \n",
       "9                   0.0        3.0  1.0             0.0            0.0  1.0   \n",
       "\n",
       "   Weight  Height  Body mass index  Absenteeism time in hours  \n",
       "0    90.0   172.0             30.0                        4.0  \n",
       "1    98.0   178.0             31.0                        0.0  \n",
       "2    89.0   170.0             31.0                        2.0  \n",
       "3    68.0   168.0             24.0                        4.0  \n",
       "4    90.0   172.0             30.0                        2.0  \n",
       "5    89.0   170.0             31.0                        NaN  \n",
       "6    80.0   172.0             27.0                        8.0  \n",
       "7    65.0   168.0             23.0                        4.0  \n",
       "8    95.0   196.0             25.0                       40.0  \n",
       "9    88.0   172.0             29.0                        8.0  \n",
       "\n",
       "[10 rows x 21 columns]"
      ]
     },
     "execution_count": 57,
     "metadata": {},
     "output_type": "execute_result"
    }
   ],
   "source": [
    "dataset.head(10)"
   ]
  },
  {
   "cell_type": "code",
   "execution_count": 58,
   "metadata": {},
   "outputs": [
    {
     "data": {
      "text/plain": [
       "(740, 21)"
      ]
     },
     "execution_count": 58,
     "metadata": {},
     "output_type": "execute_result"
    }
   ],
   "source": [
    "#Dimensions of Data\n",
    "dataset.shape"
   ]
  },
  {
   "cell_type": "code",
   "execution_count": 59,
   "metadata": {},
   "outputs": [
    {
     "name": "stdout",
     "output_type": "stream",
     "text": [
      "<class 'pandas.core.frame.DataFrame'>\n",
      "RangeIndex: 740 entries, 0 to 739\n",
      "Data columns (total 21 columns):\n",
      "ID                                 740 non-null int64\n",
      "Reason for absence                 737 non-null float64\n",
      "Month of absence                   739 non-null float64\n",
      "Day of the week                    740 non-null int64\n",
      "Seasons                            740 non-null int64\n",
      "Transportation expense             733 non-null float64\n",
      "Distance from Residence to Work    737 non-null float64\n",
      "Service time                       737 non-null float64\n",
      "Age                                737 non-null float64\n",
      "Work load Average/day              730 non-null float64\n",
      "Hit target                         734 non-null float64\n",
      "Disciplinary failure               734 non-null float64\n",
      "Education                          730 non-null float64\n",
      "Son                                734 non-null float64\n",
      "Social drinker                     737 non-null float64\n",
      "Social smoker                      736 non-null float64\n",
      "Pet                                738 non-null float64\n",
      "Weight                             739 non-null float64\n",
      "Height                             726 non-null float64\n",
      "Body mass index                    709 non-null float64\n",
      "Absenteeism time in hours          718 non-null float64\n",
      "dtypes: float64(18), int64(3)\n",
      "memory usage: 121.5 KB\n"
     ]
    }
   ],
   "source": [
    "#Data Information\n",
    "dataset.info()"
   ]
  },
  {
   "cell_type": "code",
   "execution_count": 60,
   "metadata": {},
   "outputs": [
    {
     "data": {
      "text/html": [
       "<div>\n",
       "<style scoped>\n",
       "    .dataframe tbody tr th:only-of-type {\n",
       "        vertical-align: middle;\n",
       "    }\n",
       "\n",
       "    .dataframe tbody tr th {\n",
       "        vertical-align: top;\n",
       "    }\n",
       "\n",
       "    .dataframe thead th {\n",
       "        text-align: right;\n",
       "    }\n",
       "</style>\n",
       "<table border=\"1\" class=\"dataframe\">\n",
       "  <thead>\n",
       "    <tr style=\"text-align: right;\">\n",
       "      <th></th>\n",
       "      <th>ID</th>\n",
       "      <th>Reason for absence</th>\n",
       "      <th>Month of absence</th>\n",
       "      <th>Day of the week</th>\n",
       "      <th>Seasons</th>\n",
       "      <th>Transportation expense</th>\n",
       "      <th>Distance from Residence to Work</th>\n",
       "      <th>Service time</th>\n",
       "      <th>Age</th>\n",
       "      <th>Work load Average/day</th>\n",
       "      <th>...</th>\n",
       "      <th>Disciplinary failure</th>\n",
       "      <th>Education</th>\n",
       "      <th>Son</th>\n",
       "      <th>Social drinker</th>\n",
       "      <th>Social smoker</th>\n",
       "      <th>Pet</th>\n",
       "      <th>Weight</th>\n",
       "      <th>Height</th>\n",
       "      <th>Body mass index</th>\n",
       "      <th>Absenteeism time in hours</th>\n",
       "    </tr>\n",
       "  </thead>\n",
       "  <tbody>\n",
       "    <tr>\n",
       "      <th>count</th>\n",
       "      <td>740.000000</td>\n",
       "      <td>737.000000</td>\n",
       "      <td>739.000000</td>\n",
       "      <td>740.000000</td>\n",
       "      <td>740.000000</td>\n",
       "      <td>733.000000</td>\n",
       "      <td>737.000000</td>\n",
       "      <td>737.000000</td>\n",
       "      <td>737.000000</td>\n",
       "      <td>730.000000</td>\n",
       "      <td>...</td>\n",
       "      <td>734.000000</td>\n",
       "      <td>730.000000</td>\n",
       "      <td>734.000000</td>\n",
       "      <td>737.000000</td>\n",
       "      <td>736.000000</td>\n",
       "      <td>738.000000</td>\n",
       "      <td>739.000000</td>\n",
       "      <td>726.000000</td>\n",
       "      <td>709.000000</td>\n",
       "      <td>718.000000</td>\n",
       "    </tr>\n",
       "    <tr>\n",
       "      <th>mean</th>\n",
       "      <td>18.017568</td>\n",
       "      <td>19.188602</td>\n",
       "      <td>6.319350</td>\n",
       "      <td>3.914865</td>\n",
       "      <td>2.544595</td>\n",
       "      <td>221.035471</td>\n",
       "      <td>29.667571</td>\n",
       "      <td>12.565807</td>\n",
       "      <td>36.449118</td>\n",
       "      <td>271188.860274</td>\n",
       "      <td>...</td>\n",
       "      <td>0.053134</td>\n",
       "      <td>1.295890</td>\n",
       "      <td>1.017711</td>\n",
       "      <td>0.567164</td>\n",
       "      <td>0.073370</td>\n",
       "      <td>0.746612</td>\n",
       "      <td>79.063599</td>\n",
       "      <td>172.152893</td>\n",
       "      <td>26.684062</td>\n",
       "      <td>6.977716</td>\n",
       "    </tr>\n",
       "    <tr>\n",
       "      <th>std</th>\n",
       "      <td>11.021247</td>\n",
       "      <td>8.437493</td>\n",
       "      <td>3.435948</td>\n",
       "      <td>1.421675</td>\n",
       "      <td>1.111831</td>\n",
       "      <td>66.954179</td>\n",
       "      <td>14.848124</td>\n",
       "      <td>4.389813</td>\n",
       "      <td>6.480148</td>\n",
       "      <td>38981.880873</td>\n",
       "      <td>...</td>\n",
       "      <td>0.224453</td>\n",
       "      <td>0.676965</td>\n",
       "      <td>1.094928</td>\n",
       "      <td>0.495805</td>\n",
       "      <td>0.260919</td>\n",
       "      <td>1.319726</td>\n",
       "      <td>12.868630</td>\n",
       "      <td>6.081065</td>\n",
       "      <td>4.292819</td>\n",
       "      <td>13.476962</td>\n",
       "    </tr>\n",
       "    <tr>\n",
       "      <th>min</th>\n",
       "      <td>1.000000</td>\n",
       "      <td>0.000000</td>\n",
       "      <td>0.000000</td>\n",
       "      <td>2.000000</td>\n",
       "      <td>1.000000</td>\n",
       "      <td>118.000000</td>\n",
       "      <td>5.000000</td>\n",
       "      <td>1.000000</td>\n",
       "      <td>27.000000</td>\n",
       "      <td>205917.000000</td>\n",
       "      <td>...</td>\n",
       "      <td>0.000000</td>\n",
       "      <td>1.000000</td>\n",
       "      <td>0.000000</td>\n",
       "      <td>0.000000</td>\n",
       "      <td>0.000000</td>\n",
       "      <td>0.000000</td>\n",
       "      <td>56.000000</td>\n",
       "      <td>163.000000</td>\n",
       "      <td>19.000000</td>\n",
       "      <td>0.000000</td>\n",
       "    </tr>\n",
       "    <tr>\n",
       "      <th>25%</th>\n",
       "      <td>9.000000</td>\n",
       "      <td>13.000000</td>\n",
       "      <td>3.000000</td>\n",
       "      <td>3.000000</td>\n",
       "      <td>2.000000</td>\n",
       "      <td>179.000000</td>\n",
       "      <td>16.000000</td>\n",
       "      <td>9.000000</td>\n",
       "      <td>31.000000</td>\n",
       "      <td>244387.000000</td>\n",
       "      <td>...</td>\n",
       "      <td>0.000000</td>\n",
       "      <td>1.000000</td>\n",
       "      <td>0.000000</td>\n",
       "      <td>0.000000</td>\n",
       "      <td>0.000000</td>\n",
       "      <td>0.000000</td>\n",
       "      <td>69.000000</td>\n",
       "      <td>169.000000</td>\n",
       "      <td>24.000000</td>\n",
       "      <td>2.000000</td>\n",
       "    </tr>\n",
       "    <tr>\n",
       "      <th>50%</th>\n",
       "      <td>18.000000</td>\n",
       "      <td>23.000000</td>\n",
       "      <td>6.000000</td>\n",
       "      <td>4.000000</td>\n",
       "      <td>3.000000</td>\n",
       "      <td>225.000000</td>\n",
       "      <td>26.000000</td>\n",
       "      <td>13.000000</td>\n",
       "      <td>37.000000</td>\n",
       "      <td>264249.000000</td>\n",
       "      <td>...</td>\n",
       "      <td>0.000000</td>\n",
       "      <td>1.000000</td>\n",
       "      <td>1.000000</td>\n",
       "      <td>1.000000</td>\n",
       "      <td>0.000000</td>\n",
       "      <td>0.000000</td>\n",
       "      <td>83.000000</td>\n",
       "      <td>170.000000</td>\n",
       "      <td>25.000000</td>\n",
       "      <td>3.000000</td>\n",
       "    </tr>\n",
       "    <tr>\n",
       "      <th>75%</th>\n",
       "      <td>28.000000</td>\n",
       "      <td>26.000000</td>\n",
       "      <td>9.000000</td>\n",
       "      <td>5.000000</td>\n",
       "      <td>4.000000</td>\n",
       "      <td>260.000000</td>\n",
       "      <td>50.000000</td>\n",
       "      <td>16.000000</td>\n",
       "      <td>40.000000</td>\n",
       "      <td>284853.000000</td>\n",
       "      <td>...</td>\n",
       "      <td>0.000000</td>\n",
       "      <td>1.000000</td>\n",
       "      <td>2.000000</td>\n",
       "      <td>1.000000</td>\n",
       "      <td>0.000000</td>\n",
       "      <td>1.000000</td>\n",
       "      <td>89.000000</td>\n",
       "      <td>172.000000</td>\n",
       "      <td>31.000000</td>\n",
       "      <td>8.000000</td>\n",
       "    </tr>\n",
       "    <tr>\n",
       "      <th>max</th>\n",
       "      <td>36.000000</td>\n",
       "      <td>28.000000</td>\n",
       "      <td>12.000000</td>\n",
       "      <td>6.000000</td>\n",
       "      <td>4.000000</td>\n",
       "      <td>388.000000</td>\n",
       "      <td>52.000000</td>\n",
       "      <td>29.000000</td>\n",
       "      <td>58.000000</td>\n",
       "      <td>378884.000000</td>\n",
       "      <td>...</td>\n",
       "      <td>1.000000</td>\n",
       "      <td>4.000000</td>\n",
       "      <td>4.000000</td>\n",
       "      <td>1.000000</td>\n",
       "      <td>1.000000</td>\n",
       "      <td>8.000000</td>\n",
       "      <td>108.000000</td>\n",
       "      <td>196.000000</td>\n",
       "      <td>38.000000</td>\n",
       "      <td>120.000000</td>\n",
       "    </tr>\n",
       "  </tbody>\n",
       "</table>\n",
       "<p>8 rows × 21 columns</p>\n",
       "</div>"
      ],
      "text/plain": [
       "               ID  Reason for absence  Month of absence  Day of the week  \\\n",
       "count  740.000000          737.000000        739.000000       740.000000   \n",
       "mean    18.017568           19.188602          6.319350         3.914865   \n",
       "std     11.021247            8.437493          3.435948         1.421675   \n",
       "min      1.000000            0.000000          0.000000         2.000000   \n",
       "25%      9.000000           13.000000          3.000000         3.000000   \n",
       "50%     18.000000           23.000000          6.000000         4.000000   \n",
       "75%     28.000000           26.000000          9.000000         5.000000   \n",
       "max     36.000000           28.000000         12.000000         6.000000   \n",
       "\n",
       "          Seasons  Transportation expense  Distance from Residence to Work  \\\n",
       "count  740.000000              733.000000                       737.000000   \n",
       "mean     2.544595              221.035471                        29.667571   \n",
       "std      1.111831               66.954179                        14.848124   \n",
       "min      1.000000              118.000000                         5.000000   \n",
       "25%      2.000000              179.000000                        16.000000   \n",
       "50%      3.000000              225.000000                        26.000000   \n",
       "75%      4.000000              260.000000                        50.000000   \n",
       "max      4.000000              388.000000                        52.000000   \n",
       "\n",
       "       Service time         Age  Work load Average/day   \\\n",
       "count    737.000000  737.000000              730.000000   \n",
       "mean      12.565807   36.449118           271188.860274   \n",
       "std        4.389813    6.480148            38981.880873   \n",
       "min        1.000000   27.000000           205917.000000   \n",
       "25%        9.000000   31.000000           244387.000000   \n",
       "50%       13.000000   37.000000           264249.000000   \n",
       "75%       16.000000   40.000000           284853.000000   \n",
       "max       29.000000   58.000000           378884.000000   \n",
       "\n",
       "                 ...              Disciplinary failure   Education  \\\n",
       "count            ...                        734.000000  730.000000   \n",
       "mean             ...                          0.053134    1.295890   \n",
       "std              ...                          0.224453    0.676965   \n",
       "min              ...                          0.000000    1.000000   \n",
       "25%              ...                          0.000000    1.000000   \n",
       "50%              ...                          0.000000    1.000000   \n",
       "75%              ...                          0.000000    1.000000   \n",
       "max              ...                          1.000000    4.000000   \n",
       "\n",
       "              Son  Social drinker  Social smoker         Pet      Weight  \\\n",
       "count  734.000000      737.000000     736.000000  738.000000  739.000000   \n",
       "mean     1.017711        0.567164       0.073370    0.746612   79.063599   \n",
       "std      1.094928        0.495805       0.260919    1.319726   12.868630   \n",
       "min      0.000000        0.000000       0.000000    0.000000   56.000000   \n",
       "25%      0.000000        0.000000       0.000000    0.000000   69.000000   \n",
       "50%      1.000000        1.000000       0.000000    0.000000   83.000000   \n",
       "75%      2.000000        1.000000       0.000000    1.000000   89.000000   \n",
       "max      4.000000        1.000000       1.000000    8.000000  108.000000   \n",
       "\n",
       "           Height  Body mass index  Absenteeism time in hours  \n",
       "count  726.000000       709.000000                 718.000000  \n",
       "mean   172.152893        26.684062                   6.977716  \n",
       "std      6.081065         4.292819                  13.476962  \n",
       "min    163.000000        19.000000                   0.000000  \n",
       "25%    169.000000        24.000000                   2.000000  \n",
       "50%    170.000000        25.000000                   3.000000  \n",
       "75%    172.000000        31.000000                   8.000000  \n",
       "max    196.000000        38.000000                 120.000000  \n",
       "\n",
       "[8 rows x 21 columns]"
      ]
     },
     "execution_count": 60,
     "metadata": {},
     "output_type": "execute_result"
    }
   ],
   "source": [
    "#Statistics of Data\n",
    "dataset.describe()"
   ]
  },
  {
   "cell_type": "code",
   "execution_count": 61,
   "metadata": {},
   "outputs": [
    {
     "data": {
      "text/plain": [
       "8.0      199\n",
       "2.0      155\n",
       "3.0      110\n",
       "1.0       88\n",
       "4.0       60\n",
       "0.0       36\n",
       "16.0      19\n",
       "24.0      16\n",
       "40.0       7\n",
       "5.0        7\n",
       "32.0       5\n",
       "64.0       3\n",
       "80.0       3\n",
       "120.0      3\n",
       "56.0       2\n",
       "112.0      2\n",
       "104.0      1\n",
       "7.0        1\n",
       "48.0       1\n",
       "Name: Absenteeism time in hours, dtype: int64"
      ]
     },
     "execution_count": 61,
     "metadata": {},
     "output_type": "execute_result"
    }
   ],
   "source": [
    "#Checking frequency of the employee  who have maximum hours of  ‘Absenteeism time in hours' \n",
    "dataset['Absenteeism time in hours'].value_counts()"
   ]
  },
  {
   "cell_type": "markdown",
   "metadata": {},
   "source": [
    "# Exploratory Data Analysis"
   ]
  },
  {
   "cell_type": "code",
   "execution_count": 62,
   "metadata": {},
   "outputs": [],
   "source": [
    "#DataCat is a dataframe containing all categorical variables from dataset\n",
    "DataCat = pd.DataFrame()\n",
    "DataCat = dataset[['ID','Reason for absence','Month of absence','Day of the week','Seasons','Disciplinary failure',\n",
    "                   'Education','Son','Social drinker','Social smoker','Pet']]\n",
    "\n",
    "#DataCon is a dataframe containing all continuous variables from dataset\n",
    "DataCon = pd.DataFrame()\n",
    "DataCon = dataset[['Transportation expense','Distance from Residence to Work',\n",
    "       'Service time', 'Age', 'Work load Average/day ', 'Hit target','Weight', 'Height', 'Body mass index','Absenteeism time in hours']]\n",
    "\n",
    "#Converting some integer and float variables to categorical variable as per requirement\n",
    "dataset[DataCat.columns] = dataset[DataCat.columns].astype(object)\n",
    "\n",
    "#Assigning (-1) in continuous data to all NA and INF values for temporary basis for float datattype conversion to int data type. Missing value data will be handled as per process under the data preprocessing\n",
    "dataset[DataCon.columns] = dataset[DataCon.columns].replace(np.nan , -1)\n",
    "\n",
    "#Converting float variables to integer type Since there are no float values present in dataset\n",
    "dataset[DataCon.columns] = dataset[DataCon.columns].astype(int)"
   ]
  },
  {
   "cell_type": "code",
   "execution_count": 63,
   "metadata": {},
   "outputs": [
    {
     "data": {
      "text/plain": [
       "ID                                 object\n",
       "Reason for absence                 object\n",
       "Month of absence                   object\n",
       "Day of the week                    object\n",
       "Seasons                            object\n",
       "Transportation expense              int64\n",
       "Distance from Residence to Work     int64\n",
       "Service time                        int64\n",
       "Age                                 int64\n",
       "Work load Average/day               int64\n",
       "Hit target                          int64\n",
       "Disciplinary failure               object\n",
       "Education                          object\n",
       "Son                                object\n",
       "Social drinker                     object\n",
       "Social smoker                      object\n",
       "Pet                                object\n",
       "Weight                              int64\n",
       "Height                              int64\n",
       "Body mass index                     int64\n",
       "Absenteeism time in hours           int64\n",
       "dtype: object"
      ]
     },
     "execution_count": 63,
     "metadata": {},
     "output_type": "execute_result"
    }
   ],
   "source": [
    "dataset.dtypes"
   ]
  },
  {
   "cell_type": "code",
   "execution_count": 64,
   "metadata": {},
   "outputs": [],
   "source": [
    "#categorising given data for  variable 'Reason for absence' in two categories as per problem statement\n",
    "r,c =dataset.shape\n",
    "for i in range(0,r):\n",
    "    #print(i)\n",
    "    if(dataset.loc[i,('Reason for absence')] != 0):\n",
    "        if(dataset.loc[i,('Reason for absence')] <= 21):\n",
    "            #print(dataset['Reason for absence'][i])\n",
    "            dataset.loc[i,('Reason for absence')] = 'ICD'\n",
    "        elif(dataset.loc[i,('Reason for absence')] >= 22):\n",
    "            dataset.loc[i,('Reason for absence')] = 'Not ICD'\n",
    "            "
   ]
  },
  {
   "cell_type": "code",
   "execution_count": 65,
   "metadata": {},
   "outputs": [],
   "source": [
    "#Categorising given data for Disciplinary failure , Social drinker , Social smoker \n",
    "for i in range(0,r):\n",
    "    if(dataset.loc[i,('Disciplinary failure')] == 0):\n",
    "        dataset.loc[i,('Disciplinary failure')] = 'No'\n",
    "    elif(dataset.loc[i,('Disciplinary failure')] == 1):\n",
    "        dataset.loc[i,('Disciplinary failure')] = 'Yes'\n",
    "        \n",
    "\n",
    "for i in range(0,r):\n",
    "    if(dataset.loc[i,('Social drinker')] == 0):\n",
    "        dataset.loc[i,('Social drinker')] = 'No'\n",
    "    elif(dataset.loc[i,('Social drinker')] == 1):\n",
    "        dataset.loc[i,('Social drinker')] = 'Yes'\n",
    "        \n",
    "        \n",
    "        \n",
    "for i in range(0,r):\n",
    "    if(dataset.loc[i,('Social smoker')] == 0):\n",
    "        dataset.loc[i,('Social smoker')] = 'No'\n",
    "    elif(dataset.loc[i,('Social smoker')] == 1):\n",
    "        dataset.loc[i,('Social smoker')] = 'Yes'"
   ]
  },
  {
   "cell_type": "code",
   "execution_count": 66,
   "metadata": {},
   "outputs": [],
   "source": [
    "#Day of the week (Monday (2), Tuesday (3), Wednesday (4), Thursday (5), Friday (6))\n",
    "\n",
    "dataset['Day of the week']\n",
    "for i in range(0,r):\n",
    "    if(dataset.loc[i,('Day of the week')] == 2):\n",
    "        dataset.loc[i,('Day of the week')] = 'Monday'\n",
    "    elif(dataset.loc[i,('Day of the week')] == 3):\n",
    "        dataset.loc[i,('Day of the week')] = 'Tuesday'\n",
    "    elif(dataset.loc[i,('Day of the week')] == 4):\n",
    "        dataset.loc[i,('Day of the week')] = 'Wednesday'\n",
    "    elif(dataset.loc[i,('Day of the week')] == 5):\n",
    "        dataset.loc[i,('Day of the week')] = 'Thursday'\n",
    "    elif(dataset.loc[i,('Day of the week')] == 6):\n",
    "        dataset.loc[i,('Day of the week')] = 'Friday'"
   ]
  },
  {
   "cell_type": "code",
   "execution_count": 67,
   "metadata": {},
   "outputs": [],
   "source": [
    "#Seasons (summer (1), autumn (2), winter (3), spring (4))\n",
    "for i in range(0,r):\n",
    "    if(dataset.loc[i,('Seasons')] == 1):\n",
    "        dataset.loc[i,('Seasons')] = 'summer'\n",
    "    elif(dataset.loc[i,('Seasons')] == 2):\n",
    "        dataset.loc[i,('Seasons')] = 'autumn'\n",
    "    elif(dataset.loc[i,('Seasons')] == 3):\n",
    "        dataset.loc[i,('Seasons')] = 'winter'\n",
    "    elif(dataset.loc[i,('Seasons')] == 4):\n",
    "        dataset.loc[i,('Seasons')] = 'spring'"
   ]
  },
  {
   "cell_type": "code",
   "execution_count": 68,
   "metadata": {},
   "outputs": [],
   "source": [
    "# Education (high school (1), graduate (2), postgraduate (3), master and doctor (4))\n",
    "for i in range(0,r):\n",
    "    if(dataset.loc[i,('Education')] == 1):\n",
    "        dataset.loc[i,('Education')] = 'high school'\n",
    "    elif(dataset.loc[i,('Education')] == 2):\n",
    "        dataset.loc[i,('Education')] = 'graduate'\n",
    "    elif(dataset.loc[i,('Education')] == 3):\n",
    "        dataset.loc[i,('Education')] = 'postgraduate'\n",
    "    elif(dataset.loc[i,('Education')] == 4):\n",
    "        dataset.loc[i,('Education')] = 'master and doctor'"
   ]
  },
  {
   "cell_type": "code",
   "execution_count": 69,
   "metadata": {},
   "outputs": [
    {
     "data": {
      "text/html": [
       "<div>\n",
       "<style scoped>\n",
       "    .dataframe tbody tr th:only-of-type {\n",
       "        vertical-align: middle;\n",
       "    }\n",
       "\n",
       "    .dataframe tbody tr th {\n",
       "        vertical-align: top;\n",
       "    }\n",
       "\n",
       "    .dataframe thead th {\n",
       "        text-align: right;\n",
       "    }\n",
       "</style>\n",
       "<table border=\"1\" class=\"dataframe\">\n",
       "  <thead>\n",
       "    <tr style=\"text-align: right;\">\n",
       "      <th></th>\n",
       "      <th>ID</th>\n",
       "      <th>Reason for absence</th>\n",
       "      <th>Month of absence</th>\n",
       "      <th>Day of the week</th>\n",
       "      <th>Seasons</th>\n",
       "      <th>Transportation expense</th>\n",
       "      <th>Distance from Residence to Work</th>\n",
       "      <th>Service time</th>\n",
       "      <th>Age</th>\n",
       "      <th>Work load Average/day</th>\n",
       "      <th>...</th>\n",
       "      <th>Disciplinary failure</th>\n",
       "      <th>Education</th>\n",
       "      <th>Son</th>\n",
       "      <th>Social drinker</th>\n",
       "      <th>Social smoker</th>\n",
       "      <th>Pet</th>\n",
       "      <th>Weight</th>\n",
       "      <th>Height</th>\n",
       "      <th>Body mass index</th>\n",
       "      <th>Absenteeism time in hours</th>\n",
       "    </tr>\n",
       "  </thead>\n",
       "  <tbody>\n",
       "    <tr>\n",
       "      <th>0</th>\n",
       "      <td>11</td>\n",
       "      <td>Not ICD</td>\n",
       "      <td>7</td>\n",
       "      <td>Tuesday</td>\n",
       "      <td>summer</td>\n",
       "      <td>289</td>\n",
       "      <td>36</td>\n",
       "      <td>13</td>\n",
       "      <td>33</td>\n",
       "      <td>239554</td>\n",
       "      <td>...</td>\n",
       "      <td>No</td>\n",
       "      <td>high school</td>\n",
       "      <td>2</td>\n",
       "      <td>Yes</td>\n",
       "      <td>No</td>\n",
       "      <td>1</td>\n",
       "      <td>90</td>\n",
       "      <td>172</td>\n",
       "      <td>30</td>\n",
       "      <td>4</td>\n",
       "    </tr>\n",
       "    <tr>\n",
       "      <th>1</th>\n",
       "      <td>36</td>\n",
       "      <td>0</td>\n",
       "      <td>7</td>\n",
       "      <td>Tuesday</td>\n",
       "      <td>summer</td>\n",
       "      <td>118</td>\n",
       "      <td>13</td>\n",
       "      <td>18</td>\n",
       "      <td>50</td>\n",
       "      <td>239554</td>\n",
       "      <td>...</td>\n",
       "      <td>Yes</td>\n",
       "      <td>high school</td>\n",
       "      <td>1</td>\n",
       "      <td>Yes</td>\n",
       "      <td>No</td>\n",
       "      <td>0</td>\n",
       "      <td>98</td>\n",
       "      <td>178</td>\n",
       "      <td>31</td>\n",
       "      <td>0</td>\n",
       "    </tr>\n",
       "  </tbody>\n",
       "</table>\n",
       "<p>2 rows × 21 columns</p>\n",
       "</div>"
      ],
      "text/plain": [
       "   ID Reason for absence Month of absence Day of the week Seasons  \\\n",
       "0  11            Not ICD                7         Tuesday  summer   \n",
       "1  36                  0                7         Tuesday  summer   \n",
       "\n",
       "   Transportation expense  Distance from Residence to Work  Service time  Age  \\\n",
       "0                     289                               36            13   33   \n",
       "1                     118                               13            18   50   \n",
       "\n",
       "   Work load Average/day             ...              Disciplinary failure  \\\n",
       "0                  239554            ...                                No   \n",
       "1                  239554            ...                               Yes   \n",
       "\n",
       "     Education Son Social drinker Social smoker Pet Weight  Height  \\\n",
       "0  high school   2            Yes            No   1     90     172   \n",
       "1  high school   1            Yes            No   0     98     178   \n",
       "\n",
       "   Body mass index  Absenteeism time in hours  \n",
       "0               30                          4  \n",
       "1               31                          0  \n",
       "\n",
       "[2 rows x 21 columns]"
      ]
     },
     "execution_count": 69,
     "metadata": {},
     "output_type": "execute_result"
    }
   ],
   "source": [
    "dataset.head(2)"
   ]
  },
  {
   "cell_type": "code",
   "execution_count": 70,
   "metadata": {},
   "outputs": [],
   "source": [
    "dataset.to_csv('Absenteeism_EDA.csv',index=False)\n"
   ]
  },
  {
   "cell_type": "code",
   "execution_count": 71,
   "metadata": {},
   "outputs": [
    {
     "name": "stdout",
     "output_type": "stream",
     "text": [
      "Transportation expense\n"
     ]
    },
    {
     "name": "stderr",
     "output_type": "stream",
     "text": [
      "/Users/bhartisharma/anaconda3/lib/python3.6/site-packages/scipy/stats/stats.py:1713: FutureWarning: Using a non-tuple sequence for multidimensional indexing is deprecated; use `arr[tuple(seq)]` instead of `arr[seq]`. In the future this will be interpreted as an array index, `arr[np.array(seq)]`, which will result either in an error or a different result.\n",
      "  return np.add.reduce(sorted[indexer] * weights, axis=axis) / sumval\n",
      "/Users/bhartisharma/anaconda3/lib/python3.6/site-packages/matplotlib/axes/_axes.py:6499: MatplotlibDeprecationWarning: \n",
      "The 'normed' kwarg was deprecated in Matplotlib 2.1 and will be removed in 3.1. Use 'density' instead.\n",
      "  alternative=\"'density'\", removal=\"3.1\")\n"
     ]
    },
    {
     "data": {
      "image/png": "[encoded data removed]",
      "text/plain": [
       "<Figure size 432x288 with 1 Axes>"
      ]
     },
     "metadata": {},
     "output_type": "display_data"
    },
    {
     "name": "stdout",
     "output_type": "stream",
     "text": [
      "Distance from Residence to Work\n"
     ]
    },
    {
     "name": "stderr",
     "output_type": "stream",
     "text": [
      "/Users/bhartisharma/anaconda3/lib/python3.6/site-packages/matplotlib/axes/_axes.py:6499: MatplotlibDeprecationWarning: \n",
      "The 'normed' kwarg was deprecated in Matplotlib 2.1 and will be removed in 3.1. Use 'density' instead.\n",
      "  alternative=\"'density'\", removal=\"3.1\")\n"
     ]
    },
    {
     "data": {
      "image/png": "[encoded data removed]",
      "text/plain": [
       "<Figure size 432x288 with 1 Axes>"
      ]
     },
     "metadata": {},
     "output_type": "display_data"
    },
    {
     "name": "stdout",
     "output_type": "stream",
     "text": [
      "Service time\n"
     ]
    },
    {
     "name": "stderr",
     "output_type": "stream",
     "text": [
      "/Users/bhartisharma/anaconda3/lib/python3.6/site-packages/matplotlib/axes/_axes.py:6499: MatplotlibDeprecationWarning: \n",
      "The 'normed' kwarg was deprecated in Matplotlib 2.1 and will be removed in 3.1. Use 'density' instead.\n",
      "  alternative=\"'density'\", removal=\"3.1\")\n"
     ]
    },
    {
     "data": {
      "image/png": "[encoded data removed]",
      "text/plain": [
       "<Figure size 432x288 with 1 Axes>"
      ]
     },
     "metadata": {},
     "output_type": "display_data"
    },
    {
     "name": "stdout",
     "output_type": "stream",
     "text": [
      "Age\n"
     ]
    },
    {
     "name": "stderr",
     "output_type": "stream",
     "text": [
      "/Users/bhartisharma/anaconda3/lib/python3.6/site-packages/matplotlib/axes/_axes.py:6499: MatplotlibDeprecationWarning: \n",
      "The 'normed' kwarg was deprecated in Matplotlib 2.1 and will be removed in 3.1. Use 'density' instead.\n",
      "  alternative=\"'density'\", removal=\"3.1\")\n"
     ]
    },
    {
     "data": {
      "image/png": "[encoded data removed]",
      "text/plain": [
       "<Figure size 432x288 with 1 Axes>"
      ]
     },
     "metadata": {},
     "output_type": "display_data"
    },
    {
     "name": "stdout",
     "output_type": "stream",
     "text": [
      "Work load Average/day \n"
     ]
    },
    {
     "name": "stderr",
     "output_type": "stream",
     "text": [
      "/Users/bhartisharma/anaconda3/lib/python3.6/site-packages/matplotlib/axes/_axes.py:6499: MatplotlibDeprecationWarning: \n",
      "The 'normed' kwarg was deprecated in Matplotlib 2.1 and will be removed in 3.1. Use 'density' instead.\n",
      "  alternative=\"'density'\", removal=\"3.1\")\n"
     ]
    },
    {
     "data": {
      "image/png": "[encoded data removed]",
      "text/plain": [
       "<Figure size 432x288 with 1 Axes>"
      ]
     },
     "metadata": {},
     "output_type": "display_data"
    },
    {
     "name": "stdout",
     "output_type": "stream",
     "text": [
      "Hit target\n"
     ]
    },
    {
     "name": "stderr",
     "output_type": "stream",
     "text": [
      "/Users/bhartisharma/anaconda3/lib/python3.6/site-packages/matplotlib/axes/_axes.py:6499: MatplotlibDeprecationWarning: \n",
      "The 'normed' kwarg was deprecated in Matplotlib 2.1 and will be removed in 3.1. Use 'density' instead.\n",
      "  alternative=\"'density'\", removal=\"3.1\")\n"
     ]
    },
    {
     "data": {
      "image/png": "[encoded data removed]",
      "text/plain": [
       "<Figure size 432x288 with 1 Axes>"
      ]
     },
     "metadata": {},
     "output_type": "display_data"
    },
    {
     "name": "stdout",
     "output_type": "stream",
     "text": [
      "Weight\n"
     ]
    },
    {
     "name": "stderr",
     "output_type": "stream",
     "text": [
      "/Users/bhartisharma/anaconda3/lib/python3.6/site-packages/matplotlib/axes/_axes.py:6499: MatplotlibDeprecationWarning: \n",
      "The 'normed' kwarg was deprecated in Matplotlib 2.1 and will be removed in 3.1. Use 'density' instead.\n",
      "  alternative=\"'density'\", removal=\"3.1\")\n"
     ]
    },
    {
     "data": {
      "image/png": "[encoded data removed]",
      "text/plain": [
       "<Figure size 432x288 with 1 Axes>"
      ]
     },
     "metadata": {},
     "output_type": "display_data"
    },
    {
     "name": "stdout",
     "output_type": "stream",
     "text": [
      "Height\n"
     ]
    },
    {
     "name": "stderr",
     "output_type": "stream",
     "text": [
      "/Users/bhartisharma/anaconda3/lib/python3.6/site-packages/matplotlib/axes/_axes.py:6499: MatplotlibDeprecationWarning: \n",
      "The 'normed' kwarg was deprecated in Matplotlib 2.1 and will be removed in 3.1. Use 'density' instead.\n",
      "  alternative=\"'density'\", removal=\"3.1\")\n"
     ]
    },
    {
     "data": {
      "image/png": "[encoded data removed]",
      "text/plain": [
       "<Figure size 432x288 with 1 Axes>"
      ]
     },
     "metadata": {},
     "output_type": "display_data"
    },
    {
     "name": "stdout",
     "output_type": "stream",
     "text": [
      "Body mass index\n"
     ]
    },
    {
     "name": "stderr",
     "output_type": "stream",
     "text": [
      "/Users/bhartisharma/anaconda3/lib/python3.6/site-packages/matplotlib/axes/_axes.py:6499: MatplotlibDeprecationWarning: \n",
      "The 'normed' kwarg was deprecated in Matplotlib 2.1 and will be removed in 3.1. Use 'density' instead.\n",
      "  alternative=\"'density'\", removal=\"3.1\")\n"
     ]
    },
    {
     "data": {
      "image/png": "[encoded data removed]",
      "text/plain": [
       "<Figure size 432x288 with 1 Axes>"
      ]
     },
     "metadata": {},
     "output_type": "display_data"
    },
    {
     "name": "stdout",
     "output_type": "stream",
     "text": [
      "Absenteeism time in hours\n"
     ]
    },
    {
     "name": "stderr",
     "output_type": "stream",
     "text": [
      "/Users/bhartisharma/anaconda3/lib/python3.6/site-packages/matplotlib/axes/_axes.py:6499: MatplotlibDeprecationWarning: \n",
      "The 'normed' kwarg was deprecated in Matplotlib 2.1 and will be removed in 3.1. Use 'density' instead.\n",
      "  alternative=\"'density'\", removal=\"3.1\")\n"
     ]
    },
    {
     "data": {
      "image/png": "[encoded data removed]",
      "text/plain": [
       "<Figure size 432x288 with 1 Axes>"
      ]
     },
     "metadata": {},
     "output_type": "display_data"
    }
   ],
   "source": [
    "# Density Plot and Histogram of all variables\n",
    "import seaborn as sns\n",
    "import matplotlib.pyplot as plt\n",
    "from scipy.stats import norm\n",
    "df = dataset\n",
    "for i in DataCon:\n",
    "    print(i)\n",
    "    sns.distplot( dataset[i] , hist = True, color = 'red' ,norm_hist = True, kde = True, fit=norm)\n",
    "    plt.ylabel('Density')\n",
    "    \n",
    "    plt.show()\n",
    "\n"
   ]
  },
  {
   "cell_type": "code",
   "execution_count": null,
   "metadata": {},
   "outputs": [],
   "source": []
  },
  {
   "cell_type": "code",
   "execution_count": 72,
   "metadata": {},
   "outputs": [
    {
     "name": "stdout",
     "output_type": "stream",
     "text": [
      "1 222\n",
      "2 294\n",
      "3 746\n",
      "4 482\n",
      "5 390\n",
      "6 402\n",
      "7 722\n",
      "8 270\n",
      "9 281\n",
      "10 336\n",
      "11 459\n",
      "12 381\n"
     ]
    }
   ],
   "source": [
    "# Sum of Absenteeism time in hours per Month\n",
    "for i in range(1,13):\n",
    "    #print(i)\n",
    "    print(i , dataset['Absenteeism time in hours'][dataset['Month of absence'] == i].sum())\n",
    "    "
   ]
  },
  {
   "cell_type": "code",
   "execution_count": 73,
   "metadata": {},
   "outputs": [
    {
     "name": "stdout",
     "output_type": "stream",
     "text": [
      "1 4.44\n",
      "2 4.083333333333333\n",
      "3 8.574712643678161\n",
      "4 9.09433962264151\n",
      "5 6.09375\n",
      "6 7.444444444444445\n",
      "7 10.776119402985074\n",
      "8 5.0\n",
      "9 5.30188679245283\n",
      "10 4.8\n",
      "11 7.285714285714286\n",
      "12 7.775510204081633\n"
     ]
    }
   ],
   "source": [
    "# Mean of Absenteeism time in hours per Month\n",
    "for i in range(1,13):\n",
    "    #print(i)\n",
    "    print(i , dataset['Absenteeism time in hours'][dataset['Month of absence'] == i].mean())\n",
    "    "
   ]
  },
  {
   "cell_type": "markdown",
   "metadata": {},
   "source": [
    "# Data Preprocessing\n"
   ]
  },
  {
   "cell_type": "markdown",
   "metadata": {},
   "source": [
    "# Missing Values Imputation"
   ]
  },
  {
   "cell_type": "code",
   "execution_count": 74,
   "metadata": {},
   "outputs": [],
   "source": [
    "#Dividing Categorical variables into two dataframes\n",
    "#Variables like ID,Reason for absence,Day of the week ,Seasons ,Education. Since in this case 0 shows loss of \n",
    "#information,So we will replace them with NaN values and then impute them\n",
    "DataCat_1 = pd.DataFrame()\n",
    "DataCat_1 = DataCat[['ID','Reason for absence','Month of absence','Day of the week','Seasons','Education']]"
   ]
  },
  {
   "cell_type": "code",
   "execution_count": 75,
   "metadata": {},
   "outputs": [],
   "source": [
    "#Variables like 'Disciplinary failure','Son', 'Social drinker','Social smoker', 'Pet' \n",
    "#They include 0 as important information so we are keeping them in other dataset\n",
    "DataCat_2 = pd.DataFrame()\n",
    "DataCat_2 = DataCat[['Disciplinary failure', 'Social drinker','Social smoker']]"
   ]
  },
  {
   "cell_type": "code",
   "execution_count": 76,
   "metadata": {},
   "outputs": [
    {
     "name": "stderr",
     "output_type": "stream",
     "text": [
      "/Users/bhartisharma/anaconda3/lib/python3.6/site-packages/pandas/core/indexing.py:543: SettingWithCopyWarning: \n",
      "A value is trying to be set on a copy of a slice from a DataFrame.\n",
      "Try using .loc[row_indexer,col_indexer] = value instead\n",
      "\n",
      "See the caveats in the documentation: http://pandas.pydata.org/pandas-docs/stable/indexing.html#indexing-view-versus-copy\n",
      "  self.obj[item] = s\n"
     ]
    }
   ],
   "source": [
    "#DataCat_1\n",
    "#replace 0 with NA \n",
    "for i in range(0, DataCat_1.shape[1]):\n",
    "    #print(DataCat_1.iloc[:,i] )\n",
    "    DataCat_1.iloc[:,i] = DataCat_1.iloc[:,i].replace(0, np.nan) \n"
   ]
  },
  {
   "cell_type": "code",
   "execution_count": 77,
   "metadata": {},
   "outputs": [
    {
     "data": {
      "text/plain": [
       "ID                     0\n",
       "Reason for absence    46\n",
       "Month of absence       4\n",
       "Day of the week        0\n",
       "Seasons                0\n",
       "Education             10\n",
       "dtype: int64"
      ]
     },
     "execution_count": 77,
     "metadata": {},
     "output_type": "execute_result"
    }
   ],
   "source": [
    "DataCat_1.isnull().sum()"
   ]
  },
  {
   "cell_type": "code",
   "execution_count": 78,
   "metadata": {},
   "outputs": [
    {
     "name": "stderr",
     "output_type": "stream",
     "text": [
      "/Users/bhartisharma/anaconda3/lib/python3.6/site-packages/pandas/core/indexing.py:543: SettingWithCopyWarning: \n",
      "A value is trying to be set on a copy of a slice from a DataFrame.\n",
      "Try using .loc[row_indexer,col_indexer] = value instead\n",
      "\n",
      "See the caveats in the documentation: http://pandas.pydata.org/pandas-docs/stable/indexing.html#indexing-view-versus-copy\n",
      "  self.obj[item] = s\n"
     ]
    }
   ],
   "source": [
    "#DataCat_1\n",
    "#Assigning levels to the categories\n",
    "#lis = []\n",
    "for i in range(0, DataCat_1.shape[1]):\n",
    "        DataCat_1.iloc[:,i] = pd.Categorical(DataCat_1.iloc[:,i])\n",
    "        DataCat_1.iloc[:,i] = DataCat_1.iloc[:,i].cat.codes \n",
    "        DataCat_1.iloc[:,i] = DataCat_1.iloc[:,i].astype('object')\n",
    "        "
   ]
  },
  {
   "cell_type": "code",
   "execution_count": 79,
   "metadata": {},
   "outputs": [
    {
     "name": "stderr",
     "output_type": "stream",
     "text": [
      "/Users/bhartisharma/anaconda3/lib/python3.6/site-packages/pandas/core/indexing.py:630: SettingWithCopyWarning: \n",
      "A value is trying to be set on a copy of a slice from a DataFrame.\n",
      "Try using .loc[row_indexer,col_indexer] = value instead\n",
      "\n",
      "See the caveats in the documentation: http://pandas.pydata.org/pandas-docs/stable/indexing.html#indexing-view-versus-copy\n",
      "  self.obj[item_labels[indexer[info_axis]]] = value\n",
      "/Users/bhartisharma/anaconda3/lib/python3.6/site-packages/pandas/core/indexing.py:543: SettingWithCopyWarning: \n",
      "A value is trying to be set on a copy of a slice from a DataFrame.\n",
      "Try using .loc[row_indexer,col_indexer] = value instead\n",
      "\n",
      "See the caveats in the documentation: http://pandas.pydata.org/pandas-docs/stable/indexing.html#indexing-view-versus-copy\n",
      "  self.obj[item] = s\n"
     ]
    }
   ],
   "source": [
    "#DataCat_1\n",
    "#replace -1 with NA to impute\n",
    "for i in range(0, DataCat_1.shape[1]):\n",
    "   DataCat_1.iloc[:,i] = DataCat_1.iloc[:,i].replace(-1, np.nan) \n",
    "\n"
   ]
  },
  {
   "cell_type": "code",
   "execution_count": 80,
   "metadata": {},
   "outputs": [],
   "source": [
    "#DataCat_2\n",
    "DataCat_2 = DataCat_2.replace('Yes',1)\n",
    "DataCat_2 = DataCat_2.replace('No',0)\n",
    "\n",
    "#Add remaining two variables 'Son' and 'Pet' in categorical 2\n",
    "DataCat_2 = DataCat_2.join(DataCat[['Son','Pet']])\n"
   ]
  },
  {
   "cell_type": "code",
   "execution_count": 81,
   "metadata": {},
   "outputs": [
    {
     "data": {
      "text/html": [
       "<div>\n",
       "<style scoped>\n",
       "    .dataframe tbody tr th:only-of-type {\n",
       "        vertical-align: middle;\n",
       "    }\n",
       "\n",
       "    .dataframe tbody tr th {\n",
       "        vertical-align: top;\n",
       "    }\n",
       "\n",
       "    .dataframe thead th {\n",
       "        text-align: right;\n",
       "    }\n",
       "</style>\n",
       "<table border=\"1\" class=\"dataframe\">\n",
       "  <thead>\n",
       "    <tr style=\"text-align: right;\">\n",
       "      <th></th>\n",
       "      <th>Transportation expense</th>\n",
       "      <th>Distance from Residence to Work</th>\n",
       "      <th>Service time</th>\n",
       "      <th>Age</th>\n",
       "      <th>Work load Average/day</th>\n",
       "      <th>Hit target</th>\n",
       "      <th>Weight</th>\n",
       "      <th>Height</th>\n",
       "      <th>Body mass index</th>\n",
       "      <th>Absenteeism time in hours</th>\n",
       "    </tr>\n",
       "  </thead>\n",
       "  <tbody>\n",
       "    <tr>\n",
       "      <th>0</th>\n",
       "      <td>289.0</td>\n",
       "      <td>36.0</td>\n",
       "      <td>13.0</td>\n",
       "      <td>33.0</td>\n",
       "      <td>239554.0</td>\n",
       "      <td>97.0</td>\n",
       "      <td>90.0</td>\n",
       "      <td>172.0</td>\n",
       "      <td>30.0</td>\n",
       "      <td>4.0</td>\n",
       "    </tr>\n",
       "    <tr>\n",
       "      <th>1</th>\n",
       "      <td>118.0</td>\n",
       "      <td>13.0</td>\n",
       "      <td>18.0</td>\n",
       "      <td>50.0</td>\n",
       "      <td>239554.0</td>\n",
       "      <td>97.0</td>\n",
       "      <td>98.0</td>\n",
       "      <td>178.0</td>\n",
       "      <td>31.0</td>\n",
       "      <td>0.0</td>\n",
       "    </tr>\n",
       "    <tr>\n",
       "      <th>2</th>\n",
       "      <td>179.0</td>\n",
       "      <td>51.0</td>\n",
       "      <td>18.0</td>\n",
       "      <td>38.0</td>\n",
       "      <td>239554.0</td>\n",
       "      <td>97.0</td>\n",
       "      <td>89.0</td>\n",
       "      <td>170.0</td>\n",
       "      <td>31.0</td>\n",
       "      <td>2.0</td>\n",
       "    </tr>\n",
       "    <tr>\n",
       "      <th>3</th>\n",
       "      <td>279.0</td>\n",
       "      <td>5.0</td>\n",
       "      <td>14.0</td>\n",
       "      <td>39.0</td>\n",
       "      <td>239554.0</td>\n",
       "      <td>97.0</td>\n",
       "      <td>68.0</td>\n",
       "      <td>168.0</td>\n",
       "      <td>24.0</td>\n",
       "      <td>4.0</td>\n",
       "    </tr>\n",
       "    <tr>\n",
       "      <th>4</th>\n",
       "      <td>289.0</td>\n",
       "      <td>36.0</td>\n",
       "      <td>13.0</td>\n",
       "      <td>33.0</td>\n",
       "      <td>239554.0</td>\n",
       "      <td>97.0</td>\n",
       "      <td>90.0</td>\n",
       "      <td>172.0</td>\n",
       "      <td>30.0</td>\n",
       "      <td>2.0</td>\n",
       "    </tr>\n",
       "  </tbody>\n",
       "</table>\n",
       "</div>"
      ],
      "text/plain": [
       "   Transportation expense  Distance from Residence to Work  Service time  \\\n",
       "0                   289.0                             36.0          13.0   \n",
       "1                   118.0                             13.0          18.0   \n",
       "2                   179.0                             51.0          18.0   \n",
       "3                   279.0                              5.0          14.0   \n",
       "4                   289.0                             36.0          13.0   \n",
       "\n",
       "    Age  Work load Average/day   Hit target  Weight  Height  Body mass index  \\\n",
       "0  33.0                239554.0        97.0    90.0   172.0             30.0   \n",
       "1  50.0                239554.0        97.0    98.0   178.0             31.0   \n",
       "2  38.0                239554.0        97.0    89.0   170.0             31.0   \n",
       "3  39.0                239554.0        97.0    68.0   168.0             24.0   \n",
       "4  33.0                239554.0        97.0    90.0   172.0             30.0   \n",
       "\n",
       "   Absenteeism time in hours  \n",
       "0                        4.0  \n",
       "1                        0.0  \n",
       "2                        2.0  \n",
       "3                        4.0  \n",
       "4                        2.0  "
      ]
     },
     "execution_count": 81,
     "metadata": {},
     "output_type": "execute_result"
    }
   ],
   "source": [
    "#Creating New DataFrame DataSet to copy Continuous(DataCon) and Categorical DataSet after imputing missing values seprately\n",
    "DataSet = pd.DataFrame()\n",
    "DataSet = DataCon\n",
    "DataSet.head()"
   ]
  },
  {
   "cell_type": "code",
   "execution_count": 82,
   "metadata": {},
   "outputs": [
    {
     "name": "stdout",
     "output_type": "stream",
     "text": [
      "                         Variables  Missing_percentage\n",
      "0           Transportation expense            0.945946\n",
      "1  Distance from Residence to Work            0.405405\n",
      "2                     Service time            0.405405\n",
      "3                              Age            0.405405\n",
      "4           Work load Average/day             1.351351\n",
      "5                       Hit target            0.810811\n",
      "6                           Weight            0.135135\n",
      "7                           Height            1.891892\n",
      "8                  Body mass index            4.189189\n",
      "9        Absenteeism time in hours            2.972973\n"
     ]
    }
   ],
   "source": [
    "#Create dataframe with missing percentage \n",
    "#For Continuous Variables\n",
    "MisVal = pd.DataFrame(DataSet.isnull().sum())\n",
    "#Reset index\n",
    "MisVal = MisVal.reset_index()\n",
    "\n",
    "#Rename variable\n",
    "MisVal = MisVal.rename(columns = {'index': 'Variables', 0: 'Missing_percentage'})\n",
    "\n",
    "#Calculate percentage\n",
    "MisVal['Missing_percentage'] = (MisVal['Missing_percentage']/len(DataSet))*100\n",
    "\n",
    "print(MisVal)\n"
   ]
  },
  {
   "cell_type": "code",
   "execution_count": 83,
   "metadata": {},
   "outputs": [
    {
     "name": "stdout",
     "output_type": "stream",
     "text": [
      "36.0\n"
     ]
    },
    {
     "name": "stderr",
     "output_type": "stream",
     "text": [
      "/Users/bhartisharma/anaconda3/lib/python3.6/site-packages/ipykernel_launcher.py:4: SettingWithCopyWarning: \n",
      "A value is trying to be set on a copy of a slice from a DataFrame\n",
      "\n",
      "See the caveats in the documentation: http://pandas.pydata.org/pandas-docs/stable/indexing.html#indexing-view-versus-copy\n",
      "  after removing the cwd from sys.path.\n"
     ]
    }
   ],
   "source": [
    "#Firstly Imputating missing values for Continuous Variables\n",
    "#create missing value\n",
    "print(DataSet['Distance from Residence to Work'].loc[4])\n",
    "DataSet['Distance from Residence to Work'].loc[4] = np.nan\n",
    "#Actual Value - 36"
   ]
  },
  {
   "cell_type": "code",
   "execution_count": 84,
   "metadata": {},
   "outputs": [],
   "source": [
    "#Impute with mean\n",
    "#DataSet['Distance from Residence to Work'] = DataSet['Distance from Residence to Work'].fillna(DataSet['Distance from Residence to Work'].mean())\n",
    "#print(DataSet['Distance from Residence to Work'].loc[4])"
   ]
  },
  {
   "cell_type": "code",
   "execution_count": 85,
   "metadata": {},
   "outputs": [],
   "source": [
    "#Impute with median\n",
    "#DataSet['Distance from Residence to Work'] = DataSet['Distance from Residence to Work'].fillna(DataSet['Distance from Residence to Work'].median())\n",
    "#print(DataSet['Distance from Residence to Work'].loc[4])\n"
   ]
  },
  {
   "cell_type": "code",
   "execution_count": 86,
   "metadata": {},
   "outputs": [
    {
     "name": "stdout",
     "output_type": "stream",
     "text": [
      "Imputing row 1/740 with 0 missing, elapsed time: 0.102\n",
      "Imputing row 101/740 with 1 missing, elapsed time: 0.105\n",
      "Imputing row 201/740 with 0 missing, elapsed time: 0.106\n",
      "Imputing row 301/740 with 0 missing, elapsed time: 0.107\n",
      "Imputing row 401/740 with 0 missing, elapsed time: 0.108\n",
      "Imputing row 501/740 with 0 missing, elapsed time: 0.109\n",
      "Imputing row 601/740 with 0 missing, elapsed time: 0.110\n",
      "Imputing row 701/740 with 0 missing, elapsed time: 0.110\n"
     ]
    }
   ],
   "source": [
    "#Apply KNN imputation algorithm for ontinuous Variables\n",
    "DataSet = pd.DataFrame(KNN(k = 3).complete(DataSet), columns = DataSet.columns)"
   ]
  },
  {
   "cell_type": "code",
   "execution_count": 87,
   "metadata": {},
   "outputs": [
    {
     "data": {
      "text/plain": [
       "Transportation expense             0\n",
       "Distance from Residence to Work    0\n",
       "Service time                       0\n",
       "Age                                0\n",
       "Work load Average/day              0\n",
       "Hit target                         0\n",
       "Weight                             0\n",
       "Height                             0\n",
       "Body mass index                    0\n",
       "Absenteeism time in hours          0\n",
       "dtype: int64"
      ]
     },
     "execution_count": 87,
     "metadata": {},
     "output_type": "execute_result"
    }
   ],
   "source": [
    "DataSet.isnull().sum()"
   ]
  },
  {
   "cell_type": "code",
   "execution_count": 88,
   "metadata": {},
   "outputs": [
    {
     "data": {
      "text/plain": [
       "ID                    0\n",
       "Reason for absence    0\n",
       "Month of absence      0\n",
       "Day of the week       0\n",
       "Seasons               0\n",
       "Education             0\n",
       "dtype: int64"
      ]
     },
     "execution_count": 88,
     "metadata": {},
     "output_type": "execute_result"
    }
   ],
   "source": [
    "#For Categorical Variables Imputting with Mode\n",
    "DataCat_1 = DataCat_1.replace(np.nan,DataCat_1.mode())\n",
    "DataCat_1.isnull().sum()"
   ]
  },
  {
   "cell_type": "code",
   "execution_count": 89,
   "metadata": {},
   "outputs": [
    {
     "data": {
      "text/html": [
       "<div>\n",
       "<style scoped>\n",
       "    .dataframe tbody tr th:only-of-type {\n",
       "        vertical-align: middle;\n",
       "    }\n",
       "\n",
       "    .dataframe tbody tr th {\n",
       "        vertical-align: top;\n",
       "    }\n",
       "\n",
       "    .dataframe thead th {\n",
       "        text-align: right;\n",
       "    }\n",
       "</style>\n",
       "<table border=\"1\" class=\"dataframe\">\n",
       "  <thead>\n",
       "    <tr style=\"text-align: right;\">\n",
       "      <th></th>\n",
       "      <th>Transportation expense</th>\n",
       "      <th>Distance from Residence to Work</th>\n",
       "      <th>Service time</th>\n",
       "      <th>Age</th>\n",
       "      <th>Work load Average/day</th>\n",
       "      <th>Hit target</th>\n",
       "      <th>Weight</th>\n",
       "      <th>Height</th>\n",
       "      <th>Body mass index</th>\n",
       "      <th>Absenteeism time in hours</th>\n",
       "      <th>ID</th>\n",
       "      <th>Reason for absence</th>\n",
       "      <th>Month of absence</th>\n",
       "      <th>Day of the week</th>\n",
       "      <th>Seasons</th>\n",
       "      <th>Education</th>\n",
       "    </tr>\n",
       "  </thead>\n",
       "  <tbody>\n",
       "    <tr>\n",
       "      <th>0</th>\n",
       "      <td>289.0</td>\n",
       "      <td>36.0</td>\n",
       "      <td>13.0</td>\n",
       "      <td>33.0</td>\n",
       "      <td>239554.0</td>\n",
       "      <td>97.0</td>\n",
       "      <td>90.0</td>\n",
       "      <td>172.0</td>\n",
       "      <td>30.0</td>\n",
       "      <td>4.0</td>\n",
       "      <td>10</td>\n",
       "      <td>24.0</td>\n",
       "      <td>6.0</td>\n",
       "      <td>1</td>\n",
       "      <td>0</td>\n",
       "      <td>0.0</td>\n",
       "    </tr>\n",
       "    <tr>\n",
       "      <th>1</th>\n",
       "      <td>118.0</td>\n",
       "      <td>13.0</td>\n",
       "      <td>18.0</td>\n",
       "      <td>50.0</td>\n",
       "      <td>239554.0</td>\n",
       "      <td>97.0</td>\n",
       "      <td>98.0</td>\n",
       "      <td>178.0</td>\n",
       "      <td>31.0</td>\n",
       "      <td>0.0</td>\n",
       "      <td>35</td>\n",
       "      <td>21.0</td>\n",
       "      <td>6.0</td>\n",
       "      <td>1</td>\n",
       "      <td>0</td>\n",
       "      <td>0.0</td>\n",
       "    </tr>\n",
       "  </tbody>\n",
       "</table>\n",
       "</div>"
      ],
      "text/plain": [
       "   Transportation expense  Distance from Residence to Work  Service time  \\\n",
       "0                   289.0                             36.0          13.0   \n",
       "1                   118.0                             13.0          18.0   \n",
       "\n",
       "    Age  Work load Average/day   Hit target  Weight  Height  Body mass index  \\\n",
       "0  33.0                239554.0        97.0    90.0   172.0             30.0   \n",
       "1  50.0                239554.0        97.0    98.0   178.0             31.0   \n",
       "\n",
       "   Absenteeism time in hours  ID  Reason for absence  Month of absence  \\\n",
       "0                        4.0  10                24.0               6.0   \n",
       "1                        0.0  35                21.0               6.0   \n",
       "\n",
       "   Day of the week  Seasons  Education  \n",
       "0                1        0        0.0  \n",
       "1                1        0        0.0  "
      ]
     },
     "execution_count": 89,
     "metadata": {},
     "output_type": "execute_result"
    }
   ],
   "source": [
    "#Adding Categorical variables to main dataset after imputing\n",
    "DataSet = DataSet.join(DataCat_1)\n",
    "DataSet.head(2)"
   ]
  },
  {
   "cell_type": "code",
   "execution_count": 90,
   "metadata": {},
   "outputs": [
    {
     "data": {
      "text/plain": [
       "Disciplinary failure    0\n",
       "Social drinker          0\n",
       "Social smoker           0\n",
       "Son                     0\n",
       "Pet                     0\n",
       "dtype: int64"
      ]
     },
     "execution_count": 90,
     "metadata": {},
     "output_type": "execute_result"
    }
   ],
   "source": [
    "#DataCat_2\n",
    "DataCat_2 = DataCat_2.replace(np.nan,DataCat_2.mode())\n",
    "DataCat_2.isnull().sum()"
   ]
  },
  {
   "cell_type": "code",
   "execution_count": 91,
   "metadata": {},
   "outputs": [
    {
     "data": {
      "text/html": [
       "<div>\n",
       "<style scoped>\n",
       "    .dataframe tbody tr th:only-of-type {\n",
       "        vertical-align: middle;\n",
       "    }\n",
       "\n",
       "    .dataframe tbody tr th {\n",
       "        vertical-align: top;\n",
       "    }\n",
       "\n",
       "    .dataframe thead th {\n",
       "        text-align: right;\n",
       "    }\n",
       "</style>\n",
       "<table border=\"1\" class=\"dataframe\">\n",
       "  <thead>\n",
       "    <tr style=\"text-align: right;\">\n",
       "      <th></th>\n",
       "      <th>Transportation expense</th>\n",
       "      <th>Distance from Residence to Work</th>\n",
       "      <th>Service time</th>\n",
       "      <th>Age</th>\n",
       "      <th>Work load Average/day</th>\n",
       "      <th>Hit target</th>\n",
       "      <th>Weight</th>\n",
       "      <th>Height</th>\n",
       "      <th>Body mass index</th>\n",
       "      <th>Absenteeism time in hours</th>\n",
       "      <th>...</th>\n",
       "      <th>Reason for absence</th>\n",
       "      <th>Month of absence</th>\n",
       "      <th>Day of the week</th>\n",
       "      <th>Seasons</th>\n",
       "      <th>Education</th>\n",
       "      <th>Disciplinary failure</th>\n",
       "      <th>Social drinker</th>\n",
       "      <th>Social smoker</th>\n",
       "      <th>Son</th>\n",
       "      <th>Pet</th>\n",
       "    </tr>\n",
       "  </thead>\n",
       "  <tbody>\n",
       "    <tr>\n",
       "      <th>0</th>\n",
       "      <td>289.0</td>\n",
       "      <td>36.0</td>\n",
       "      <td>13.0</td>\n",
       "      <td>33.0</td>\n",
       "      <td>239554.0</td>\n",
       "      <td>97.0</td>\n",
       "      <td>90.0</td>\n",
       "      <td>172.0</td>\n",
       "      <td>30.0</td>\n",
       "      <td>4.0</td>\n",
       "      <td>...</td>\n",
       "      <td>24.0</td>\n",
       "      <td>6.0</td>\n",
       "      <td>1</td>\n",
       "      <td>0</td>\n",
       "      <td>0.0</td>\n",
       "      <td>0.0</td>\n",
       "      <td>1.0</td>\n",
       "      <td>0.0</td>\n",
       "      <td>2.0</td>\n",
       "      <td>1.0</td>\n",
       "    </tr>\n",
       "    <tr>\n",
       "      <th>1</th>\n",
       "      <td>118.0</td>\n",
       "      <td>13.0</td>\n",
       "      <td>18.0</td>\n",
       "      <td>50.0</td>\n",
       "      <td>239554.0</td>\n",
       "      <td>97.0</td>\n",
       "      <td>98.0</td>\n",
       "      <td>178.0</td>\n",
       "      <td>31.0</td>\n",
       "      <td>0.0</td>\n",
       "      <td>...</td>\n",
       "      <td>21.0</td>\n",
       "      <td>6.0</td>\n",
       "      <td>1</td>\n",
       "      <td>0</td>\n",
       "      <td>0.0</td>\n",
       "      <td>1.0</td>\n",
       "      <td>1.0</td>\n",
       "      <td>0.0</td>\n",
       "      <td>1.0</td>\n",
       "      <td>0.0</td>\n",
       "    </tr>\n",
       "  </tbody>\n",
       "</table>\n",
       "<p>2 rows × 21 columns</p>\n",
       "</div>"
      ],
      "text/plain": [
       "   Transportation expense  Distance from Residence to Work  Service time  \\\n",
       "0                   289.0                             36.0          13.0   \n",
       "1                   118.0                             13.0          18.0   \n",
       "\n",
       "    Age  Work load Average/day   Hit target  Weight  Height  Body mass index  \\\n",
       "0  33.0                239554.0        97.0    90.0   172.0             30.0   \n",
       "1  50.0                239554.0        97.0    98.0   178.0             31.0   \n",
       "\n",
       "   Absenteeism time in hours ...   Reason for absence  Month of absence  \\\n",
       "0                        4.0 ...                 24.0               6.0   \n",
       "1                        0.0 ...                 21.0               6.0   \n",
       "\n",
       "   Day of the week  Seasons  Education  Disciplinary failure  Social drinker  \\\n",
       "0                1        0        0.0                   0.0             1.0   \n",
       "1                1        0        0.0                   1.0             1.0   \n",
       "\n",
       "   Social smoker  Son  Pet  \n",
       "0            0.0  2.0  1.0  \n",
       "1            0.0  1.0  0.0  \n",
       "\n",
       "[2 rows x 21 columns]"
      ]
     },
     "execution_count": 91,
     "metadata": {},
     "output_type": "execute_result"
    }
   ],
   "source": [
    "#Adding Categorical variables to main dataset after imputing\n",
    "DataSet = DataSet.join(DataCat_2)\n",
    "DataSet.head(2)"
   ]
  },
  {
   "cell_type": "code",
   "execution_count": 92,
   "metadata": {
    "scrolled": true
   },
   "outputs": [
    {
     "data": {
      "text/plain": [
       "Transportation expense             0\n",
       "Distance from Residence to Work    0\n",
       "Service time                       0\n",
       "Age                                0\n",
       "Work load Average/day              0\n",
       "Hit target                         0\n",
       "Weight                             0\n",
       "Height                             0\n",
       "Body mass index                    0\n",
       "Absenteeism time in hours          0\n",
       "ID                                 0\n",
       "Reason for absence                 0\n",
       "Month of absence                   0\n",
       "Day of the week                    0\n",
       "Seasons                            0\n",
       "Education                          0\n",
       "Disciplinary failure               0\n",
       "Social drinker                     0\n",
       "Social smoker                      0\n",
       "Son                                0\n",
       "Pet                                0\n",
       "dtype: int64"
      ]
     },
     "execution_count": 92,
     "metadata": {},
     "output_type": "execute_result"
    }
   ],
   "source": [
    "DataSet.isnull().sum()"
   ]
  },
  {
   "cell_type": "markdown",
   "metadata": {},
   "source": [
    "# Outlier Analysis"
   ]
  },
  {
   "cell_type": "code",
   "execution_count": 93,
   "metadata": {},
   "outputs": [
    {
     "name": "stdout",
     "output_type": "stream",
     "text": [
      "Transportation expense\n"
     ]
    },
    {
     "data": {
      "image/png": "[encoded data removed]",
      "text/plain": [
       "<Figure size 432x288 with 1 Axes>"
      ]
     },
     "metadata": {},
     "output_type": "display_data"
    },
    {
     "name": "stdout",
     "output_type": "stream",
     "text": [
      "Distance from Residence to Work\n"
     ]
    },
    {
     "data": {
      "image/png": "[encoded data removed]",
      "text/plain": [
       "<Figure size 432x288 with 1 Axes>"
      ]
     },
     "metadata": {},
     "output_type": "display_data"
    },
    {
     "name": "stdout",
     "output_type": "stream",
     "text": [
      "Service time\n"
     ]
    },
    {
     "data": {
      "image/png": "[encoded data removed]",
      "text/plain": [
       "<Figure size 432x288 with 1 Axes>"
      ]
     },
     "metadata": {},
     "output_type": "display_data"
    },
    {
     "name": "stdout",
     "output_type": "stream",
     "text": [
      "Age\n"
     ]
    },
    {
     "data": {
      "image/png": "[encoded data removed]",
      "text/plain": [
       "<Figure size 432x288 with 1 Axes>"
      ]
     },
     "metadata": {},
     "output_type": "display_data"
    },
    {
     "name": "stdout",
     "output_type": "stream",
     "text": [
      "Work load Average/day \n"
     ]
    },
    {
     "data": {
      "image/png": "[encoded data removed]",
      "text/plain": [
       "<Figure size 432x288 with 1 Axes>"
      ]
     },
     "metadata": {},
     "output_type": "display_data"
    },
    {
     "name": "stdout",
     "output_type": "stream",
     "text": [
      "Hit target\n"
     ]
    },
    {
     "data": {
      "image/png": "[encoded data removed]",
      "text/plain": [
       "<Figure size 432x288 with 1 Axes>"
      ]
     },
     "metadata": {},
     "output_type": "display_data"
    },
    {
     "name": "stdout",
     "output_type": "stream",
     "text": [
      "Weight\n"
     ]
    },
    {
     "data": {
      "image/png": "[encoded data removed]",
      "text/plain": [
       "<Figure size 432x288 with 1 Axes>"
      ]
     },
     "metadata": {},
     "output_type": "display_data"
    },
    {
     "name": "stdout",
     "output_type": "stream",
     "text": [
      "Height\n"
     ]
    },
    {
     "data": {
      "image/png": "[encoded data removed]",
      "text/plain": [
       "<Figure size 432x288 with 1 Axes>"
      ]
     },
     "metadata": {},
     "output_type": "display_data"
    },
    {
     "name": "stdout",
     "output_type": "stream",
     "text": [
      "Body mass index\n"
     ]
    },
    {
     "data": {
      "image/png": "[encoded data removed]",
      "text/plain": [
       "<Figure size 432x288 with 1 Axes>"
      ]
     },
     "metadata": {},
     "output_type": "display_data"
    },
    {
     "name": "stdout",
     "output_type": "stream",
     "text": [
      "Absenteeism time in hours\n"
     ]
    },
    {
     "data": {
      "image/png": "[encoded data removed]",
      "text/plain": [
       "<Figure size 432x288 with 1 Axes>"
      ]
     },
     "metadata": {},
     "output_type": "display_data"
    }
   ],
   "source": [
    "#boxplot to visualize Outliers \n",
    "import matplotlib.pyplot as plt\n",
    "%matplotlib inline  \n",
    "for i in DataCon.columns :\n",
    "    print(i)\n",
    "    plt.boxplot(DataSet[i])\n",
    "    plt.xlabel(i)\n",
    "    plt.show()\n",
    "    "
   ]
  },
  {
   "cell_type": "code",
   "execution_count": 94,
   "metadata": {},
   "outputs": [
    {
     "name": "stdout",
     "output_type": "stream",
     "text": [
      "Transportation expense [179. 260.] 381.5 57.5\n",
      "Distance from Residence to Work [16. 50.] 101.0 -35.0\n"
     ]
    },
    {
     "name": "stderr",
     "output_type": "stream",
     "text": [
      "/Users/bhartisharma/anaconda3/lib/python3.6/site-packages/ipykernel_launcher.py:11: SettingWithCopyWarning: \n",
      "A value is trying to be set on a copy of a slice from a DataFrame\n",
      "\n",
      "See the caveats in the documentation: http://pandas.pydata.org/pandas-docs/stable/indexing.html#indexing-view-versus-copy\n",
      "  # This is added back by InteractiveShellApp.init_path()\n",
      "/Users/bhartisharma/anaconda3/lib/python3.6/site-packages/ipykernel_launcher.py:12: SettingWithCopyWarning: \n",
      "A value is trying to be set on a copy of a slice from a DataFrame\n",
      "\n",
      "See the caveats in the documentation: http://pandas.pydata.org/pandas-docs/stable/indexing.html#indexing-view-versus-copy\n",
      "  if sys.path[0] == '':\n"
     ]
    },
    {
     "name": "stdout",
     "output_type": "stream",
     "text": [
      "Service time [ 9. 16.] 26.5 -1.5\n",
      "Age [31. 40.] 53.5 17.5\n",
      "Work load Average/day  [244387. 284853.] 345552.0 183688.0\n",
      "Hit target [92.99999956 97.        ] 103.0000006573909 86.9999989043485\n",
      "Weight [69. 89.] 119.0 39.0\n",
      "Height [169. 172.] 176.5 164.5\n",
      "Body mass index [24. 31.] 41.5 13.5\n",
      "Absenteeism time in hours [2. 8.] 17.0 -7.0\n"
     ]
    }
   ],
   "source": [
    "# Outlier Analysis\n",
    " \n",
    "cnames = DataCon.columns\n",
    "for col in cnames:\n",
    "    #percentile = np.percentile(DataSet.loc[:,col],[75,25])\n",
    "    percentile = DataSet[col].quantile([0.25,0.75]).values\n",
    "    iqr = percentile[1] - percentile[0]\n",
    "    minimum = percentile[0] - (iqr*1.5)\n",
    "    maximum = percentile[1] + (iqr*1.5)\n",
    "    print(col,percentile,maximum,minimum)\n",
    "    DataSet[col][DataSet[col] <= minimum] = minimum\n",
    "    DataSet[col][DataSet[col] >= maximum] = maximum"
   ]
  },
  {
   "cell_type": "code",
   "execution_count": 95,
   "metadata": {},
   "outputs": [
    {
     "name": "stdout",
     "output_type": "stream",
     "text": [
      "Transportation expense\n"
     ]
    },
    {
     "data": {
      "image/png": "[encoded data removed]",
      "text/plain": [
       "<Figure size 432x288 with 1 Axes>"
      ]
     },
     "metadata": {},
     "output_type": "display_data"
    },
    {
     "name": "stdout",
     "output_type": "stream",
     "text": [
      "Distance from Residence to Work\n"
     ]
    },
    {
     "data": {
      "image/png": "[encoded data removed]",
      "text/plain": [
       "<Figure size 432x288 with 1 Axes>"
      ]
     },
     "metadata": {},
     "output_type": "display_data"
    },
    {
     "name": "stdout",
     "output_type": "stream",
     "text": [
      "Service time\n"
     ]
    },
    {
     "data": {
      "image/png": "[encoded data removed]",
      "text/plain": [
       "<Figure size 432x288 with 1 Axes>"
      ]
     },
     "metadata": {},
     "output_type": "display_data"
    },
    {
     "name": "stdout",
     "output_type": "stream",
     "text": [
      "Age\n"
     ]
    },
    {
     "data": {
      "image/png": "[encoded data removed]",
      "text/plain": [
       "<Figure size 432x288 with 1 Axes>"
      ]
     },
     "metadata": {},
     "output_type": "display_data"
    },
    {
     "name": "stdout",
     "output_type": "stream",
     "text": [
      "Work load Average/day \n"
     ]
    },
    {
     "data": {
      "image/png": "[encoded data removed]",
      "text/plain": [
       "<Figure size 432x288 with 1 Axes>"
      ]
     },
     "metadata": {},
     "output_type": "display_data"
    },
    {
     "name": "stdout",
     "output_type": "stream",
     "text": [
      "Hit target\n"
     ]
    },
    {
     "data": {
      "image/png": "[encoded data removed]",
      "text/plain": [
       "<Figure size 432x288 with 1 Axes>"
      ]
     },
     "metadata": {},
     "output_type": "display_data"
    },
    {
     "name": "stdout",
     "output_type": "stream",
     "text": [
      "Weight\n"
     ]
    },
    {
     "data": {
      "image/png": "[encoded data removed]",
      "text/plain": [
       "<Figure size 432x288 with 1 Axes>"
      ]
     },
     "metadata": {},
     "output_type": "display_data"
    },
    {
     "name": "stdout",
     "output_type": "stream",
     "text": [
      "Height\n"
     ]
    },
    {
     "data": {
      "image/png": "[encoded data removed]",
      "text/plain": [
       "<Figure size 432x288 with 1 Axes>"
      ]
     },
     "metadata": {},
     "output_type": "display_data"
    },
    {
     "name": "stdout",
     "output_type": "stream",
     "text": [
      "Body mass index\n"
     ]
    },
    {
     "data": {
      "image/png": "[encoded data removed]",
      "text/plain": [
       "<Figure size 432x288 with 1 Axes>"
      ]
     },
     "metadata": {},
     "output_type": "display_data"
    },
    {
     "name": "stdout",
     "output_type": "stream",
     "text": [
      "Absenteeism time in hours\n"
     ]
    },
    {
     "data": {
      "image/png": "[encoded data removed]",
      "text/plain": [
       "<Figure size 432x288 with 1 Axes>"
      ]
     },
     "metadata": {},
     "output_type": "display_data"
    }
   ],
   "source": [
    "#Plot boxplot to visualize Outliers after replacing outliers\n",
    "import matplotlib.pyplot as plt\n",
    "%matplotlib inline  \n",
    "for i in DataCon.columns :\n",
    "    print(i)\n",
    "    plt.boxplot(DataSet[i])\n",
    "    plt.xlabel(i)\n",
    "    plt.show()\n",
    "    "
   ]
  },
  {
   "cell_type": "markdown",
   "metadata": {},
   "source": [
    "# Feature selection"
   ]
  },
  {
   "cell_type": "code",
   "execution_count": 96,
   "metadata": {},
   "outputs": [
    {
     "data": {
      "text/plain": [
       "<matplotlib.axes._subplots.AxesSubplot at 0x1a328f6ef0>"
      ]
     },
     "execution_count": 96,
     "metadata": {},
     "output_type": "execute_result"
    },
    {
     "data": {
      "image/png": "[encoded data removed]",
      "text/plain": [
       "<Figure size 504x360 with 2 Axes>"
      ]
     },
     "metadata": {},
     "output_type": "display_data"
    }
   ],
   "source": [
    "#Correlation plot for Continuous variables\n",
    "import matplotlib.pyplot as plt\n",
    "import seaborn as sns\n",
    "cnames = DataCon.columns\n",
    "df_corr = DataCon.loc[:,cnames]\n",
    "#Set the width and hieght of the plot\n",
    "f, ax = plt.subplots(figsize=(7, 5))\n",
    "\n",
    "#Generate correlation matrix\n",
    "corr = df_corr.corr()\n",
    "\n",
    "#Plot using seaborn library\n",
    "sns.heatmap(corr, mask=np.zeros_like(corr, dtype=np.bool), cmap=sns.diverging_palette(220, 10, as_cmap=True),\n",
    "            square=True, ax=ax)"
   ]
  },
  {
   "cell_type": "code",
   "execution_count": 97,
   "metadata": {},
   "outputs": [],
   "source": [
    "#Continuous Variables selection using corr()function\n",
    "DataCon_corr = DataCon.corr()\n",
    "\n",
    "#from continuous variables variables\n",
    "DataCon_corrVar = DataCon_corr[DataCon_corr > 0.5]"
   ]
  },
  {
   "cell_type": "code",
   "execution_count": 98,
   "metadata": {},
   "outputs": [
    {
     "data": {
      "text/html": [
       "<div>\n",
       "<style scoped>\n",
       "    .dataframe tbody tr th:only-of-type {\n",
       "        vertical-align: middle;\n",
       "    }\n",
       "\n",
       "    .dataframe tbody tr th {\n",
       "        vertical-align: top;\n",
       "    }\n",
       "\n",
       "    .dataframe thead th {\n",
       "        text-align: right;\n",
       "    }\n",
       "</style>\n",
       "<table border=\"1\" class=\"dataframe\">\n",
       "  <thead>\n",
       "    <tr style=\"text-align: right;\">\n",
       "      <th></th>\n",
       "      <th>Transportation expense</th>\n",
       "      <th>Distance from Residence to Work</th>\n",
       "      <th>Service time</th>\n",
       "      <th>Age</th>\n",
       "      <th>Work load Average/day</th>\n",
       "      <th>Hit target</th>\n",
       "      <th>Weight</th>\n",
       "      <th>Height</th>\n",
       "      <th>Body mass index</th>\n",
       "      <th>Absenteeism time in hours</th>\n",
       "    </tr>\n",
       "  </thead>\n",
       "  <tbody>\n",
       "    <tr>\n",
       "      <th>Transportation expense</th>\n",
       "      <td>1.0</td>\n",
       "      <td>NaN</td>\n",
       "      <td>NaN</td>\n",
       "      <td>NaN</td>\n",
       "      <td>NaN</td>\n",
       "      <td>NaN</td>\n",
       "      <td>NaN</td>\n",
       "      <td>NaN</td>\n",
       "      <td>NaN</td>\n",
       "      <td>NaN</td>\n",
       "    </tr>\n",
       "    <tr>\n",
       "      <th>Distance from Residence to Work</th>\n",
       "      <td>NaN</td>\n",
       "      <td>1.0</td>\n",
       "      <td>NaN</td>\n",
       "      <td>NaN</td>\n",
       "      <td>NaN</td>\n",
       "      <td>NaN</td>\n",
       "      <td>NaN</td>\n",
       "      <td>NaN</td>\n",
       "      <td>NaN</td>\n",
       "      <td>NaN</td>\n",
       "    </tr>\n",
       "    <tr>\n",
       "      <th>Service time</th>\n",
       "      <td>NaN</td>\n",
       "      <td>NaN</td>\n",
       "      <td>1.000000</td>\n",
       "      <td>0.670218</td>\n",
       "      <td>NaN</td>\n",
       "      <td>NaN</td>\n",
       "      <td>NaN</td>\n",
       "      <td>NaN</td>\n",
       "      <td>0.502634</td>\n",
       "      <td>NaN</td>\n",
       "    </tr>\n",
       "    <tr>\n",
       "      <th>Age</th>\n",
       "      <td>NaN</td>\n",
       "      <td>NaN</td>\n",
       "      <td>0.670218</td>\n",
       "      <td>1.000000</td>\n",
       "      <td>NaN</td>\n",
       "      <td>NaN</td>\n",
       "      <td>NaN</td>\n",
       "      <td>NaN</td>\n",
       "      <td>NaN</td>\n",
       "      <td>NaN</td>\n",
       "    </tr>\n",
       "    <tr>\n",
       "      <th>Work load Average/day</th>\n",
       "      <td>NaN</td>\n",
       "      <td>NaN</td>\n",
       "      <td>NaN</td>\n",
       "      <td>NaN</td>\n",
       "      <td>1.0</td>\n",
       "      <td>NaN</td>\n",
       "      <td>NaN</td>\n",
       "      <td>NaN</td>\n",
       "      <td>NaN</td>\n",
       "      <td>NaN</td>\n",
       "    </tr>\n",
       "    <tr>\n",
       "      <th>Hit target</th>\n",
       "      <td>NaN</td>\n",
       "      <td>NaN</td>\n",
       "      <td>NaN</td>\n",
       "      <td>NaN</td>\n",
       "      <td>NaN</td>\n",
       "      <td>1.0</td>\n",
       "      <td>NaN</td>\n",
       "      <td>NaN</td>\n",
       "      <td>NaN</td>\n",
       "      <td>NaN</td>\n",
       "    </tr>\n",
       "    <tr>\n",
       "      <th>Weight</th>\n",
       "      <td>NaN</td>\n",
       "      <td>NaN</td>\n",
       "      <td>NaN</td>\n",
       "      <td>NaN</td>\n",
       "      <td>NaN</td>\n",
       "      <td>NaN</td>\n",
       "      <td>1.00000</td>\n",
       "      <td>NaN</td>\n",
       "      <td>0.904060</td>\n",
       "      <td>NaN</td>\n",
       "    </tr>\n",
       "    <tr>\n",
       "      <th>Height</th>\n",
       "      <td>NaN</td>\n",
       "      <td>NaN</td>\n",
       "      <td>NaN</td>\n",
       "      <td>NaN</td>\n",
       "      <td>NaN</td>\n",
       "      <td>NaN</td>\n",
       "      <td>NaN</td>\n",
       "      <td>1.0</td>\n",
       "      <td>NaN</td>\n",
       "      <td>NaN</td>\n",
       "    </tr>\n",
       "    <tr>\n",
       "      <th>Body mass index</th>\n",
       "      <td>NaN</td>\n",
       "      <td>NaN</td>\n",
       "      <td>0.502634</td>\n",
       "      <td>NaN</td>\n",
       "      <td>NaN</td>\n",
       "      <td>NaN</td>\n",
       "      <td>0.90406</td>\n",
       "      <td>NaN</td>\n",
       "      <td>1.000000</td>\n",
       "      <td>NaN</td>\n",
       "    </tr>\n",
       "    <tr>\n",
       "      <th>Absenteeism time in hours</th>\n",
       "      <td>NaN</td>\n",
       "      <td>NaN</td>\n",
       "      <td>NaN</td>\n",
       "      <td>NaN</td>\n",
       "      <td>NaN</td>\n",
       "      <td>NaN</td>\n",
       "      <td>NaN</td>\n",
       "      <td>NaN</td>\n",
       "      <td>NaN</td>\n",
       "      <td>1.0</td>\n",
       "    </tr>\n",
       "  </tbody>\n",
       "</table>\n",
       "</div>"
      ],
      "text/plain": [
       "                                 Transportation expense  \\\n",
       "Transportation expense                              1.0   \n",
       "Distance from Residence to Work                     NaN   \n",
       "Service time                                        NaN   \n",
       "Age                                                 NaN   \n",
       "Work load Average/day                               NaN   \n",
       "Hit target                                          NaN   \n",
       "Weight                                              NaN   \n",
       "Height                                              NaN   \n",
       "Body mass index                                     NaN   \n",
       "Absenteeism time in hours                           NaN   \n",
       "\n",
       "                                 Distance from Residence to Work  \\\n",
       "Transportation expense                                       NaN   \n",
       "Distance from Residence to Work                              1.0   \n",
       "Service time                                                 NaN   \n",
       "Age                                                          NaN   \n",
       "Work load Average/day                                        NaN   \n",
       "Hit target                                                   NaN   \n",
       "Weight                                                       NaN   \n",
       "Height                                                       NaN   \n",
       "Body mass index                                              NaN   \n",
       "Absenteeism time in hours                                    NaN   \n",
       "\n",
       "                                 Service time       Age  \\\n",
       "Transportation expense                    NaN       NaN   \n",
       "Distance from Residence to Work           NaN       NaN   \n",
       "Service time                         1.000000  0.670218   \n",
       "Age                                  0.670218  1.000000   \n",
       "Work load Average/day                     NaN       NaN   \n",
       "Hit target                                NaN       NaN   \n",
       "Weight                                    NaN       NaN   \n",
       "Height                                    NaN       NaN   \n",
       "Body mass index                      0.502634       NaN   \n",
       "Absenteeism time in hours                 NaN       NaN   \n",
       "\n",
       "                                 Work load Average/day   Hit target   Weight  \\\n",
       "Transportation expense                              NaN         NaN      NaN   \n",
       "Distance from Residence to Work                     NaN         NaN      NaN   \n",
       "Service time                                        NaN         NaN      NaN   \n",
       "Age                                                 NaN         NaN      NaN   \n",
       "Work load Average/day                               1.0         NaN      NaN   \n",
       "Hit target                                          NaN         1.0      NaN   \n",
       "Weight                                              NaN         NaN  1.00000   \n",
       "Height                                              NaN         NaN      NaN   \n",
       "Body mass index                                     NaN         NaN  0.90406   \n",
       "Absenteeism time in hours                           NaN         NaN      NaN   \n",
       "\n",
       "                                 Height  Body mass index  \\\n",
       "Transportation expense              NaN              NaN   \n",
       "Distance from Residence to Work     NaN              NaN   \n",
       "Service time                        NaN         0.502634   \n",
       "Age                                 NaN              NaN   \n",
       "Work load Average/day               NaN              NaN   \n",
       "Hit target                          NaN              NaN   \n",
       "Weight                              NaN         0.904060   \n",
       "Height                              1.0              NaN   \n",
       "Body mass index                     NaN         1.000000   \n",
       "Absenteeism time in hours           NaN              NaN   \n",
       "\n",
       "                                 Absenteeism time in hours  \n",
       "Transportation expense                                 NaN  \n",
       "Distance from Residence to Work                        NaN  \n",
       "Service time                                           NaN  \n",
       "Age                                                    NaN  \n",
       "Work load Average/day                                  NaN  \n",
       "Hit target                                             NaN  \n",
       "Weight                                                 NaN  \n",
       "Height                                                 NaN  \n",
       "Body mass index                                        NaN  \n",
       "Absenteeism time in hours                              1.0  "
      ]
     },
     "execution_count": 98,
     "metadata": {},
     "output_type": "execute_result"
    }
   ],
   "source": [
    "DataCon_corrVar"
   ]
  },
  {
   "cell_type": "code",
   "execution_count": 99,
   "metadata": {},
   "outputs": [],
   "source": [
    "#Making a list DataConCorrVar,which contains values only greater than 0.5\n",
    "import numpy as np\n",
    "#DataCon_corrVar = DataCon_corrVar.replace(np.nan,-1)\n",
    "DataConCorrVar = []\n",
    "\n",
    "for i  in range(0,DataCon_corrVar.shape[1]): \n",
    "        for j  in range(0,DataCon_corrVar.shape[1]):\n",
    "            if(i != j):\n",
    "                if((DataCon_corrVar.iloc[i,j] > 0.5).any(axis=0)):\n",
    "#print(DataCon_corrVar.columns[i]+ \" , \"+DataCon_corrVar.columns[j] + \" :\",DataCon_corrVar.iloc[i,j])\n",
    "                    DataConCorrVar.append((DataCon_corrVar.columns[i] , DataCon_corrVar.columns[j] ,DataCon_corrVar.iloc[i,j] ))   "
   ]
  },
  {
   "cell_type": "code",
   "execution_count": 100,
   "metadata": {},
   "outputs": [
    {
     "data": {
      "text/html": [
       "<div>\n",
       "<style scoped>\n",
       "    .dataframe tbody tr th:only-of-type {\n",
       "        vertical-align: middle;\n",
       "    }\n",
       "\n",
       "    .dataframe tbody tr th {\n",
       "        vertical-align: top;\n",
       "    }\n",
       "\n",
       "    .dataframe thead th {\n",
       "        text-align: right;\n",
       "    }\n",
       "</style>\n",
       "<table border=\"1\" class=\"dataframe\">\n",
       "  <thead>\n",
       "    <tr style=\"text-align: right;\">\n",
       "      <th></th>\n",
       "      <th>0</th>\n",
       "      <th>1</th>\n",
       "      <th>2</th>\n",
       "    </tr>\n",
       "  </thead>\n",
       "  <tbody>\n",
       "    <tr>\n",
       "      <th>0</th>\n",
       "      <td>Service time</td>\n",
       "      <td>Age</td>\n",
       "      <td>0.670218</td>\n",
       "    </tr>\n",
       "    <tr>\n",
       "      <th>1</th>\n",
       "      <td>Service time</td>\n",
       "      <td>Body mass index</td>\n",
       "      <td>0.502634</td>\n",
       "    </tr>\n",
       "    <tr>\n",
       "      <th>2</th>\n",
       "      <td>Age</td>\n",
       "      <td>Service time</td>\n",
       "      <td>0.670218</td>\n",
       "    </tr>\n",
       "    <tr>\n",
       "      <th>3</th>\n",
       "      <td>Weight</td>\n",
       "      <td>Body mass index</td>\n",
       "      <td>0.904060</td>\n",
       "    </tr>\n",
       "    <tr>\n",
       "      <th>4</th>\n",
       "      <td>Body mass index</td>\n",
       "      <td>Service time</td>\n",
       "      <td>0.502634</td>\n",
       "    </tr>\n",
       "    <tr>\n",
       "      <th>5</th>\n",
       "      <td>Body mass index</td>\n",
       "      <td>Weight</td>\n",
       "      <td>0.904060</td>\n",
       "    </tr>\n",
       "  </tbody>\n",
       "</table>\n",
       "</div>"
      ],
      "text/plain": [
       "                 0                1         2\n",
       "0     Service time              Age  0.670218\n",
       "1     Service time  Body mass index  0.502634\n",
       "2              Age     Service time  0.670218\n",
       "3           Weight  Body mass index  0.904060\n",
       "4  Body mass index     Service time  0.502634\n",
       "5  Body mass index           Weight  0.904060"
      ]
     },
     "execution_count": 100,
     "metadata": {},
     "output_type": "execute_result"
    }
   ],
   "source": [
    "#Convert to DataFrame\n",
    "DataConCorrVar = pd.DataFrame(DataConCorrVar)\n",
    "DataConCorrVar"
   ]
  },
  {
   "cell_type": "code",
   "execution_count": 101,
   "metadata": {},
   "outputs": [
    {
     "data": {
      "text/plain": [
       "Index(['Transportation expense', 'Distance from Residence to Work',\n",
       "       'Service time', 'Age', 'Work load Average/day ', 'Hit target', 'Weight',\n",
       "       'Height', 'Body mass index', 'Absenteeism time in hours', 'ID',\n",
       "       'Reason for absence', 'Month of absence', 'Day of the week', 'Seasons',\n",
       "       'Education', 'Disciplinary failure', 'Social drinker', 'Social smoker',\n",
       "       'Son', 'Pet'],\n",
       "      dtype='object')"
      ]
     },
     "execution_count": 101,
     "metadata": {},
     "output_type": "execute_result"
    }
   ],
   "source": [
    "DataSet.columns"
   ]
  },
  {
   "cell_type": "code",
   "execution_count": 102,
   "metadata": {},
   "outputs": [],
   "source": [
    "DataSet =DataSet.drop(['Age','Weight','Body mass index'],axis=1)\n",
    "DataCon =DataCon.drop(['Age','Weight','Body mass index'],axis=1)\n"
   ]
  },
  {
   "cell_type": "code",
   "execution_count": 103,
   "metadata": {},
   "outputs": [],
   "source": [
    "#Feature Selection for categorical data"
   ]
  },
  {
   "cell_type": "code",
   "execution_count": 104,
   "metadata": {
    "scrolled": true
   },
   "outputs": [
    {
     "data": {
      "text/plain": [
       "Index(['ID', 'Reason for absence', 'Month of absence', 'Day of the week',\n",
       "       'Seasons', 'Disciplinary failure', 'Education', 'Son', 'Social drinker',\n",
       "       'Social smoker', 'Pet'],\n",
       "      dtype='object')"
      ]
     },
     "execution_count": 104,
     "metadata": {},
     "output_type": "execute_result"
    }
   ],
   "source": [
    "DataCat.columns"
   ]
  },
  {
   "cell_type": "code",
   "execution_count": 105,
   "metadata": {},
   "outputs": [
    {
     "name": "stdout",
     "output_type": "stream",
     "text": [
      "4.0542553388658034e-61\n"
     ]
    }
   ],
   "source": [
    "#If p-value < 0.05: significant result, reject null hypothesis (H0), dependent.\n",
    "#If independent variables are dependent to each other we can drop one of them .\n",
    "#If p-value > 0.05: not significant result, fail to reject null hypothesis (H0), independent.\n",
    "\n",
    "#1\n",
    "corrVar = []\n",
    "chi,p,def1,ex = chi2_contingency(pd.crosstab(DataCat['ID'],DataCat['Reason for absence']))\n",
    "print(p)\n",
    "#Drop ID\n",
    "DataSet = DataSet.drop(['ID'],axis =1)\n",
    "DataCat = DataCat.drop(['ID'],axis=1)\n",
    "corrVar.append('Reason for absence')"
   ]
  },
  {
   "cell_type": "code",
   "execution_count": 106,
   "metadata": {},
   "outputs": [
    {
     "name": "stdout",
     "output_type": "stream",
     "text": [
      "4.925169657693766e-19\n"
     ]
    },
    {
     "data": {
      "text/plain": [
       "['Month of absence']"
      ]
     },
     "execution_count": 106,
     "metadata": {},
     "output_type": "execute_result"
    }
   ],
   "source": [
    "#2\n",
    "chi,p,def1,ex = chi2_contingency(pd.crosstab(DataCat['Month of absence'],DataCat['Reason for absence']))\n",
    "print(p)\n",
    "#drop 'Month of absence'\n",
    "corrVar.append('Month of absence')\n",
    "corrVar\n",
    "#Drop 'Reason for absence'\n",
    "DataSet = DataSet.drop(['Reason for absence'],axis =1)\n",
    "DataCat = DataCat.drop(['Reason for absence'],axis=1)\n",
    "corrVar.remove('Reason for absence')\n",
    "corrVar"
   ]
  },
  {
   "cell_type": "code",
   "execution_count": 107,
   "metadata": {},
   "outputs": [
    {
     "name": "stdout",
     "output_type": "stream",
     "text": [
      "0.5544572956116095\n"
     ]
    },
    {
     "data": {
      "text/plain": [
       "['Month of absence', 'Day of the week']"
      ]
     },
     "execution_count": 107,
     "metadata": {},
     "output_type": "execute_result"
    }
   ],
   "source": [
    "#3\n",
    "chi,p,def1,ex = chi2_contingency(pd.crosstab(DataCat['Month of absence'],DataCat['Day of the week']))\n",
    "print(p)\n",
    "corrVar.append('Day of the week')\n",
    "corrVar\n"
   ]
  },
  {
   "cell_type": "code",
   "execution_count": 108,
   "metadata": {},
   "outputs": [
    {
     "name": "stdout",
     "output_type": "stream",
     "text": [
      "0.1953925388600992\n"
     ]
    },
    {
     "data": {
      "text/plain": [
       "['Month of absence', 'Day of the week', 'Seasons']"
      ]
     },
     "execution_count": 108,
     "metadata": {},
     "output_type": "execute_result"
    }
   ],
   "source": [
    "#4\n",
    "chi,p,def1,ex = chi2_contingency(pd.crosstab(DataCat['Day of the week'],DataCat['Seasons']))\n",
    "print(p)\n",
    "corrVar.append('Seasons')\n",
    "corrVar"
   ]
  },
  {
   "cell_type": "code",
   "execution_count": 109,
   "metadata": {},
   "outputs": [
    {
     "name": "stdout",
     "output_type": "stream",
     "text": [
      "7.817284312620508e-05\n"
     ]
    }
   ],
   "source": [
    "#5\n",
    "chi,p,def1,ex = chi2_contingency(pd.crosstab(DataCat['Seasons'],DataCat['Disciplinary failure']))\n",
    "print(p)\n",
    "DataSet = DataSet.drop(['Disciplinary failure'],axis =1)\n",
    "DataCat = DataCat.drop(['Disciplinary failure'],axis=1)"
   ]
  },
  {
   "cell_type": "code",
   "execution_count": 110,
   "metadata": {},
   "outputs": [
    {
     "name": "stdout",
     "output_type": "stream",
     "text": [
      "0.09018080436255627\n"
     ]
    },
    {
     "data": {
      "text/plain": [
       "['Month of absence', 'Day of the week', 'Seasons', 'Education']"
      ]
     },
     "execution_count": 110,
     "metadata": {},
     "output_type": "execute_result"
    }
   ],
   "source": [
    "#6\n",
    "chi,p,def1,ex = chi2_contingency(pd.crosstab(DataCat['Education'],DataCat['Seasons']))\n",
    "corrVar.append('Education')\n",
    "print(p)\n",
    "corrVar"
   ]
  },
  {
   "cell_type": "code",
   "execution_count": 111,
   "metadata": {},
   "outputs": [
    {
     "name": "stdout",
     "output_type": "stream",
     "text": [
      "2.8823822525296954e-12\n"
     ]
    }
   ],
   "source": [
    "#7\n",
    "chi,p,def1,ex = chi2_contingency(pd.crosstab(DataCat['Son'],DataCat['Education']))\n",
    "print(p)\n",
    "#drop 'Son'\n",
    "DataSet = DataSet.drop(['Son'],axis =1)\n",
    "DataCat = DataCat.drop(['Son'],axis=1)"
   ]
  },
  {
   "cell_type": "code",
   "execution_count": 112,
   "metadata": {},
   "outputs": [
    {
     "name": "stdout",
     "output_type": "stream",
     "text": [
      "0.632521334190322\n"
     ]
    },
    {
     "data": {
      "text/plain": [
       "['Month of absence', 'Day of the week', 'Seasons', 'Education']"
      ]
     },
     "execution_count": 112,
     "metadata": {},
     "output_type": "execute_result"
    }
   ],
   "source": [
    "#8\n",
    "chi,p,def1,ex = chi2_contingency(pd.crosstab(DataCat['Social drinker'],DataCat['Day of the week']))\n",
    "print(p)\n",
    "\n",
    "corrVar"
   ]
  },
  {
   "cell_type": "code",
   "execution_count": 113,
   "metadata": {},
   "outputs": [
    {
     "name": "stdout",
     "output_type": "stream",
     "text": [
      "2.41869576743245e-35\n"
     ]
    },
    {
     "data": {
      "text/plain": [
       "['Month of absence',\n",
       " 'Day of the week',\n",
       " 'Seasons',\n",
       " 'Education',\n",
       " 'Social drinker']"
      ]
     },
     "execution_count": 113,
     "metadata": {},
     "output_type": "execute_result"
    }
   ],
   "source": [
    "#9\n",
    "chi,p,def1,ex = chi2_contingency(pd.crosstab(DataCat['Social drinker'],DataCat['Education']))\n",
    "print(p)\n",
    "corrVar.append('Social drinker')\n",
    "DataSet = DataSet.drop(['Education'],axis =1)\n",
    "DataCat = DataCat.drop(['Education'],axis=1)\n",
    "corrVar"
   ]
  },
  {
   "cell_type": "code",
   "execution_count": 114,
   "metadata": {},
   "outputs": [
    {
     "name": "stdout",
     "output_type": "stream",
     "text": [
      "0.0058247838997921245\n"
     ]
    }
   ],
   "source": [
    "#10\n",
    "chi,p,def1,ex = chi2_contingency(pd.crosstab(DataCat['Social smoker'],DataCat['Social drinker']))\n",
    "print(p)\n",
    "DataSet = DataSet.drop(['Social smoker'],axis =1)\n",
    "DataCat = DataCat.drop(['Social smoker'],axis=1)\n"
   ]
  },
  {
   "cell_type": "code",
   "execution_count": 115,
   "metadata": {},
   "outputs": [
    {
     "name": "stdout",
     "output_type": "stream",
     "text": [
      "1.1969272219740736e-26\n"
     ]
    }
   ],
   "source": [
    "#11\n",
    "chi,p,def1,ex = chi2_contingency(pd.crosstab(DataCat['Pet'],DataCat['Social drinker']))\n",
    "print(p)\n",
    "DataSet = DataSet.drop(['Pet'],axis =1)\n",
    "DataCat = DataCat.drop(['Pet'],axis=1)\n"
   ]
  },
  {
   "cell_type": "code",
   "execution_count": 116,
   "metadata": {},
   "outputs": [
    {
     "data": {
      "text/plain": [
       "['Month of absence',\n",
       " 'Day of the week',\n",
       " 'Seasons',\n",
       " 'Education',\n",
       " 'Social drinker']"
      ]
     },
     "execution_count": 116,
     "metadata": {},
     "output_type": "execute_result"
    }
   ],
   "source": [
    "# Now we have got 4 variables , and we will check correlation among them\n",
    "corrVar"
   ]
  },
  {
   "cell_type": "code",
   "execution_count": 117,
   "metadata": {},
   "outputs": [
    {
     "name": "stdout",
     "output_type": "stream",
     "text": [
      "0.5544572956116095\n"
     ]
    }
   ],
   "source": [
    "#12\n",
    "chi,p,def1,ex = chi2_contingency(pd.crosstab(DataCat['Month of absence'],DataCat['Day of the week']))\n",
    "print(p)\n",
    "#corrVar"
   ]
  },
  {
   "cell_type": "code",
   "execution_count": 118,
   "metadata": {},
   "outputs": [
    {
     "name": "stdout",
     "output_type": "stream",
     "text": [
      "0.0\n"
     ]
    }
   ],
   "source": [
    "#13\n",
    "chi,p,def1,ex = chi2_contingency(pd.crosstab(DataCat['Month of absence'],DataCat['Seasons']))\n",
    "print(p)\n",
    "corrVar.remove('Seasons')\n",
    "corrVar\n",
    "DataSet = DataSet.drop(['Seasons'],axis =1)\n",
    "DataCat = DataCat.drop(['Seasons'],axis=1)"
   ]
  },
  {
   "cell_type": "code",
   "execution_count": 119,
   "metadata": {},
   "outputs": [
    {
     "name": "stdout",
     "output_type": "stream",
     "text": [
      "0.632521334190322\n"
     ]
    },
    {
     "data": {
      "text/plain": [
       "['Month of absence', 'Day of the week', 'Education', 'Social drinker']"
      ]
     },
     "execution_count": 119,
     "metadata": {},
     "output_type": "execute_result"
    }
   ],
   "source": [
    "#14\n",
    "chi,p,def1,ex = chi2_contingency(pd.crosstab(DataCat['Day of the week'],DataCat['Social drinker']))\n",
    "print(p)\n",
    "corrVar"
   ]
  },
  {
   "cell_type": "code",
   "execution_count": 120,
   "metadata": {},
   "outputs": [
    {
     "name": "stdout",
     "output_type": "stream",
     "text": [
      "0.00947949884256757\n"
     ]
    }
   ],
   "source": [
    "#15\n",
    "chi,p,def1,ex = chi2_contingency(pd.crosstab(DataCat['Month of absence'],DataCat['Social drinker']))\n",
    "print(p)\n",
    "corrVar\n",
    "DataSet = DataSet.drop(['Month of absence'],axis =1)\n",
    "DataCat = DataCat.drop(['Month of absence'],axis=1)"
   ]
  },
  {
   "cell_type": "code",
   "execution_count": 121,
   "metadata": {},
   "outputs": [
    {
     "data": {
      "text/html": [
       "<div>\n",
       "<style scoped>\n",
       "    .dataframe tbody tr th:only-of-type {\n",
       "        vertical-align: middle;\n",
       "    }\n",
       "\n",
       "    .dataframe tbody tr th {\n",
       "        vertical-align: top;\n",
       "    }\n",
       "\n",
       "    .dataframe thead th {\n",
       "        text-align: right;\n",
       "    }\n",
       "</style>\n",
       "<table border=\"1\" class=\"dataframe\">\n",
       "  <thead>\n",
       "    <tr style=\"text-align: right;\">\n",
       "      <th></th>\n",
       "      <th>Transportation expense</th>\n",
       "      <th>Distance from Residence to Work</th>\n",
       "      <th>Service time</th>\n",
       "      <th>Work load Average/day</th>\n",
       "      <th>Hit target</th>\n",
       "      <th>Height</th>\n",
       "      <th>Absenteeism time in hours</th>\n",
       "      <th>Day of the week</th>\n",
       "      <th>Social drinker</th>\n",
       "    </tr>\n",
       "  </thead>\n",
       "  <tbody>\n",
       "    <tr>\n",
       "      <th>0</th>\n",
       "      <td>289.0</td>\n",
       "      <td>36.000000</td>\n",
       "      <td>13.0</td>\n",
       "      <td>239554.0</td>\n",
       "      <td>97.0</td>\n",
       "      <td>172.0</td>\n",
       "      <td>4.0</td>\n",
       "      <td>1</td>\n",
       "      <td>1.0</td>\n",
       "    </tr>\n",
       "    <tr>\n",
       "      <th>1</th>\n",
       "      <td>118.0</td>\n",
       "      <td>13.000000</td>\n",
       "      <td>18.0</td>\n",
       "      <td>239554.0</td>\n",
       "      <td>97.0</td>\n",
       "      <td>176.5</td>\n",
       "      <td>0.0</td>\n",
       "      <td>1</td>\n",
       "      <td>1.0</td>\n",
       "    </tr>\n",
       "    <tr>\n",
       "      <th>2</th>\n",
       "      <td>179.0</td>\n",
       "      <td>51.000000</td>\n",
       "      <td>18.0</td>\n",
       "      <td>239554.0</td>\n",
       "      <td>97.0</td>\n",
       "      <td>170.0</td>\n",
       "      <td>2.0</td>\n",
       "      <td>2</td>\n",
       "      <td>1.0</td>\n",
       "    </tr>\n",
       "    <tr>\n",
       "      <th>3</th>\n",
       "      <td>279.0</td>\n",
       "      <td>5.000000</td>\n",
       "      <td>14.0</td>\n",
       "      <td>239554.0</td>\n",
       "      <td>97.0</td>\n",
       "      <td>168.0</td>\n",
       "      <td>4.0</td>\n",
       "      <td>3</td>\n",
       "      <td>1.0</td>\n",
       "    </tr>\n",
       "    <tr>\n",
       "      <th>4</th>\n",
       "      <td>289.0</td>\n",
       "      <td>36.847827</td>\n",
       "      <td>13.0</td>\n",
       "      <td>239554.0</td>\n",
       "      <td>97.0</td>\n",
       "      <td>172.0</td>\n",
       "      <td>2.0</td>\n",
       "      <td>3</td>\n",
       "      <td>1.0</td>\n",
       "    </tr>\n",
       "  </tbody>\n",
       "</table>\n",
       "</div>"
      ],
      "text/plain": [
       "   Transportation expense  Distance from Residence to Work  Service time  \\\n",
       "0                   289.0                        36.000000          13.0   \n",
       "1                   118.0                        13.000000          18.0   \n",
       "2                   179.0                        51.000000          18.0   \n",
       "3                   279.0                         5.000000          14.0   \n",
       "4                   289.0                        36.847827          13.0   \n",
       "\n",
       "   Work load Average/day   Hit target  Height  Absenteeism time in hours  \\\n",
       "0                239554.0        97.0   172.0                        4.0   \n",
       "1                239554.0        97.0   176.5                        0.0   \n",
       "2                239554.0        97.0   170.0                        2.0   \n",
       "3                239554.0        97.0   168.0                        4.0   \n",
       "4                239554.0        97.0   172.0                        2.0   \n",
       "\n",
       "   Day of the week  Social drinker  \n",
       "0                1             1.0  \n",
       "1                1             1.0  \n",
       "2                2             1.0  \n",
       "3                3             1.0  \n",
       "4                3             1.0  "
      ]
     },
     "execution_count": 121,
     "metadata": {},
     "output_type": "execute_result"
    }
   ],
   "source": [
    "DataSet.head()"
   ]
  },
  {
   "cell_type": "markdown",
   "metadata": {},
   "source": [
    "# Feature Scaling\n"
   ]
  },
  {
   "cell_type": "code",
   "execution_count": 122,
   "metadata": {},
   "outputs": [],
   "source": [
    "#Nomalisation\n",
    "cnames = DataCon.columns\n",
    "for i in cnames:\n",
    "    DataSet[i] = (DataSet[i] - min(DataSet[i]))/(max(DataSet[i]) - min(DataSet[i]))"
   ]
  },
  {
   "cell_type": "code",
   "execution_count": 123,
   "metadata": {},
   "outputs": [
    {
     "data": {
      "text/html": [
       "<div>\n",
       "<style scoped>\n",
       "    .dataframe tbody tr th:only-of-type {\n",
       "        vertical-align: middle;\n",
       "    }\n",
       "\n",
       "    .dataframe tbody tr th {\n",
       "        vertical-align: top;\n",
       "    }\n",
       "\n",
       "    .dataframe thead th {\n",
       "        text-align: right;\n",
       "    }\n",
       "</style>\n",
       "<table border=\"1\" class=\"dataframe\">\n",
       "  <thead>\n",
       "    <tr style=\"text-align: right;\">\n",
       "      <th></th>\n",
       "      <th>Transportation expense</th>\n",
       "      <th>Distance from Residence to Work</th>\n",
       "      <th>Service time</th>\n",
       "      <th>Work load Average/day</th>\n",
       "      <th>Hit target</th>\n",
       "      <th>Height</th>\n",
       "      <th>Absenteeism time in hours</th>\n",
       "      <th>Day of the week</th>\n",
       "      <th>Social drinker</th>\n",
       "    </tr>\n",
       "  </thead>\n",
       "  <tbody>\n",
       "    <tr>\n",
       "      <th>0</th>\n",
       "      <td>0.648956</td>\n",
       "      <td>0.659574</td>\n",
       "      <td>0.470588</td>\n",
       "      <td>0.240892</td>\n",
       "      <td>0.769231</td>\n",
       "      <td>0.625</td>\n",
       "      <td>0.235294</td>\n",
       "      <td>1</td>\n",
       "      <td>1.0</td>\n",
       "    </tr>\n",
       "    <tr>\n",
       "      <th>1</th>\n",
       "      <td>0.000000</td>\n",
       "      <td>0.170213</td>\n",
       "      <td>0.666667</td>\n",
       "      <td>0.240892</td>\n",
       "      <td>0.769231</td>\n",
       "      <td>1.000</td>\n",
       "      <td>0.000000</td>\n",
       "      <td>1</td>\n",
       "      <td>1.0</td>\n",
       "    </tr>\n",
       "  </tbody>\n",
       "</table>\n",
       "</div>"
      ],
      "text/plain": [
       "   Transportation expense  Distance from Residence to Work  Service time  \\\n",
       "0                0.648956                         0.659574      0.470588   \n",
       "1                0.000000                         0.170213      0.666667   \n",
       "\n",
       "   Work load Average/day   Hit target  Height  Absenteeism time in hours  \\\n",
       "0                0.240892    0.769231   0.625                   0.235294   \n",
       "1                0.240892    0.769231   1.000                   0.000000   \n",
       "\n",
       "   Day of the week  Social drinker  \n",
       "0                1             1.0  \n",
       "1                1             1.0  "
      ]
     },
     "execution_count": 123,
     "metadata": {},
     "output_type": "execute_result"
    }
   ],
   "source": [
    "DataSet.head(2)"
   ]
  },
  {
   "cell_type": "code",
   "execution_count": 124,
   "metadata": {},
   "outputs": [
    {
     "data": {
      "image/png": "[encoded data removed]",
      "text/plain": [
       "<Figure size 432x288 with 1 Axes>"
      ]
     },
     "metadata": {},
     "output_type": "display_data"
    },
    {
     "data": {
      "image/png": "[encoded data removed]",
      "text/plain": [
       "<Figure size 432x288 with 1 Axes>"
      ]
     },
     "metadata": {},
     "output_type": "display_data"
    },
    {
     "data": {
      "image/png": "[encoded data removed]",
      "text/plain": [
       "<Figure size 432x288 with 1 Axes>"
      ]
     },
     "metadata": {},
     "output_type": "display_data"
    },
    {
     "data": {
      "image/png": "[encoded data removed]",
      "text/plain": [
       "<Figure size 432x288 with 1 Axes>"
      ]
     },
     "metadata": {},
     "output_type": "display_data"
    },
    {
     "data": {
      "image/png": "[encoded data removed]",
      "text/plain": [
       "<Figure size 432x288 with 1 Axes>"
      ]
     },
     "metadata": {},
     "output_type": "display_data"
    },
    {
     "data": {
      "image/png": "[encoded data removed]",
      "text/plain": [
       "<Figure size 432x288 with 1 Axes>"
      ]
     },
     "metadata": {},
     "output_type": "display_data"
    },
    {
     "data": {
      "image/png": "[encoded data removed]",
      "text/plain": [
       "<Figure size 432x288 with 1 Axes>"
      ]
     },
     "metadata": {},
     "output_type": "display_data"
    }
   ],
   "source": [
    "#Plot Histogram for Normality check\n",
    "for i in cnames:\n",
    "    plt.hist(DataSet[i])\n",
    "    plt.xlabel(i)\n",
    "    plt.show()"
   ]
  },
  {
   "cell_type": "markdown",
   "metadata": {},
   "source": [
    "# Model development"
   ]
  },
  {
   "cell_type": "markdown",
   "metadata": {},
   "source": [
    "Linear Regression Model"
   ]
  },
  {
   "cell_type": "code",
   "execution_count": 125,
   "metadata": {},
   "outputs": [],
   "source": [
    "#Create linear data. Save target variable first\n",
    "dataset_LR = pd.DataFrame()\n",
    "#Add continous variables\n",
    "dataset_LR = DataSet[DataCon.columns]\n",
    "#Creating dummy Variables for categorical variables\n",
    "cat_names = DataCat.columns\n",
    "for i in cat_names:\n",
    "    temp = pd.get_dummies(DataSet[i], prefix = i)\n",
    "    dataset_LR = dataset_LR.join(temp)"
   ]
  },
  {
   "cell_type": "code",
   "execution_count": 126,
   "metadata": {},
   "outputs": [],
   "source": [
    "#Split dataset\n",
    "#Creating Target variable and dropping target variable from dataset\n",
    "from sklearn.model_selection import train_test_split\n",
    "y = DataSet['Absenteeism time in hours']\n",
    "dataset_LR=dataset_LR.drop('Absenteeism time in hours',axis=1)\n",
    "X = dataset_LR[dataset_LR.columns]"
   ]
  },
  {
   "cell_type": "code",
   "execution_count": 127,
   "metadata": {},
   "outputs": [],
   "source": [
    "#Sampling \n",
    "X_train,X_test,y_train,y_test = train_test_split(X,y,test_size=0.2,random_state = 6)"
   ]
  },
  {
   "cell_type": "code",
   "execution_count": 128,
   "metadata": {},
   "outputs": [
    {
     "data": {
      "text/html": [
       "<table class=\"simpletable\">\n",
       "<caption>OLS Regression Results</caption>\n",
       "<tr>\n",
       "  <th>Dep. Variable:</th>    <td>Absenteeism time in hours</td> <th>  R-squared:         </th> <td>   0.082</td>\n",
       "</tr>\n",
       "<tr>\n",
       "  <th>Model:</th>                       <td>OLS</td>            <th>  Adj. R-squared:    </th> <td>   0.065</td>\n",
       "</tr>\n",
       "<tr>\n",
       "  <th>Method:</th>                 <td>Least Squares</td>       <th>  F-statistic:       </th> <td>   4.711</td>\n",
       "</tr>\n",
       "<tr>\n",
       "  <th>Date:</th>                 <td>Thu, 15 Nov 2018</td>      <th>  Prob (F-statistic):</th> <td>6.21e-07</td>\n",
       "</tr>\n",
       "<tr>\n",
       "  <th>Time:</th>                     <td>00:26:20</td>          <th>  Log-Likelihood:    </th> <td> -19.673</td>\n",
       "</tr>\n",
       "<tr>\n",
       "  <th>No. Observations:</th>          <td>   592</td>           <th>  AIC:               </th> <td>   63.35</td>\n",
       "</tr>\n",
       "<tr>\n",
       "  <th>Df Residuals:</th>              <td>   580</td>           <th>  BIC:               </th> <td>   115.9</td>\n",
       "</tr>\n",
       "<tr>\n",
       "  <th>Df Model:</th>                  <td>    11</td>           <th>                     </th>     <td> </td>   \n",
       "</tr>\n",
       "<tr>\n",
       "  <th>Covariance Type:</th>          <td>nonrobust</td>         <th>                     </th>     <td> </td>   \n",
       "</tr>\n",
       "</table>\n",
       "<table class=\"simpletable\">\n",
       "<tr>\n",
       "                 <td></td>                    <th>coef</th>     <th>std err</th>      <th>t</th>      <th>P>|t|</th>  <th>[0.025</th>    <th>0.975]</th>  \n",
       "</tr>\n",
       "<tr>\n",
       "  <th>Transportation expense</th>          <td>    0.1601</td> <td>    0.048</td> <td>    3.370</td> <td> 0.001</td> <td>    0.067</td> <td>    0.253</td>\n",
       "</tr>\n",
       "<tr>\n",
       "  <th>Distance from Residence to Work</th> <td>   -0.1279</td> <td>    0.041</td> <td>   -3.099</td> <td> 0.002</td> <td>   -0.209</td> <td>   -0.047</td>\n",
       "</tr>\n",
       "<tr>\n",
       "  <th>Service time</th>                    <td>   -0.0340</td> <td>    0.075</td> <td>   -0.454</td> <td> 0.650</td> <td>   -0.181</td> <td>    0.113</td>\n",
       "</tr>\n",
       "<tr>\n",
       "  <th>Work load Average/day </th>          <td>    0.1081</td> <td>    0.041</td> <td>    2.628</td> <td> 0.009</td> <td>    0.027</td> <td>    0.189</td>\n",
       "</tr>\n",
       "<tr>\n",
       "  <th>Hit target</th>                      <td>    0.0476</td> <td>    0.042</td> <td>    1.145</td> <td> 0.253</td> <td>   -0.034</td> <td>    0.129</td>\n",
       "</tr>\n",
       "<tr>\n",
       "  <th>Height</th>                          <td>    0.0201</td> <td>    0.049</td> <td>    0.408</td> <td> 0.683</td> <td>   -0.077</td> <td>    0.117</td>\n",
       "</tr>\n",
       "<tr>\n",
       "  <th>Day of the week_0</th>               <td>    0.1123</td> <td>    0.027</td> <td>    4.110</td> <td> 0.000</td> <td>    0.059</td> <td>    0.166</td>\n",
       "</tr>\n",
       "<tr>\n",
       "  <th>Day of the week_1</th>               <td>    0.0697</td> <td>    0.028</td> <td>    2.483</td> <td> 0.013</td> <td>    0.015</td> <td>    0.125</td>\n",
       "</tr>\n",
       "<tr>\n",
       "  <th>Day of the week_2</th>               <td>    0.0700</td> <td>    0.029</td> <td>    2.381</td> <td> 0.018</td> <td>    0.012</td> <td>    0.128</td>\n",
       "</tr>\n",
       "<tr>\n",
       "  <th>Day of the week_3</th>               <td>    0.0510</td> <td>    0.031</td> <td>    1.623</td> <td> 0.105</td> <td>   -0.011</td> <td>    0.113</td>\n",
       "</tr>\n",
       "<tr>\n",
       "  <th>Day of the week_4</th>               <td>    0.0126</td> <td>    0.029</td> <td>    0.440</td> <td> 0.660</td> <td>   -0.044</td> <td>    0.069</td>\n",
       "</tr>\n",
       "<tr>\n",
       "  <th>Social drinker_0.0</th>              <td>    0.1108</td> <td>    0.045</td> <td>    2.457</td> <td> 0.014</td> <td>    0.022</td> <td>    0.199</td>\n",
       "</tr>\n",
       "<tr>\n",
       "  <th>Social drinker_1.0</th>              <td>    0.2048</td> <td>    0.058</td> <td>    3.555</td> <td> 0.000</td> <td>    0.092</td> <td>    0.318</td>\n",
       "</tr>\n",
       "</table>\n",
       "<table class=\"simpletable\">\n",
       "<tr>\n",
       "  <th>Omnibus:</th>       <td>109.638</td> <th>  Durbin-Watson:     </th> <td>   1.976</td>\n",
       "</tr>\n",
       "<tr>\n",
       "  <th>Prob(Omnibus):</th> <td> 0.000</td>  <th>  Jarque-Bera (JB):  </th> <td> 175.722</td>\n",
       "</tr>\n",
       "<tr>\n",
       "  <th>Skew:</th>          <td> 1.174</td>  <th>  Prob(JB):          </th> <td>6.96e-39</td>\n",
       "</tr>\n",
       "<tr>\n",
       "  <th>Kurtosis:</th>      <td> 4.268</td>  <th>  Cond. No.          </th> <td>1.08e+16</td>\n",
       "</tr>\n",
       "</table><br/><br/>Warnings:<br/>[1] Standard Errors assume that the covariance matrix of the errors is correctly specified.<br/>[2] The smallest eigenvalue is 1.14e-29. This might indicate that there are<br/>strong multicollinearity problems or that the design matrix is singular."
      ],
      "text/plain": [
       "<class 'statsmodels.iolib.summary.Summary'>\n",
       "\"\"\"\n",
       "                                OLS Regression Results                               \n",
       "=====================================================================================\n",
       "Dep. Variable:     Absenteeism time in hours   R-squared:                       0.082\n",
       "Model:                                   OLS   Adj. R-squared:                  0.065\n",
       "Method:                        Least Squares   F-statistic:                     4.711\n",
       "Date:                       Thu, 15 Nov 2018   Prob (F-statistic):           6.21e-07\n",
       "Time:                               00:26:20   Log-Likelihood:                -19.673\n",
       "No. Observations:                        592   AIC:                             63.35\n",
       "Df Residuals:                            580   BIC:                             115.9\n",
       "Df Model:                                 11                                         \n",
       "Covariance Type:                   nonrobust                                         \n",
       "===================================================================================================\n",
       "                                      coef    std err          t      P>|t|      [0.025      0.975]\n",
       "---------------------------------------------------------------------------------------------------\n",
       "Transportation expense              0.1601      0.048      3.370      0.001       0.067       0.253\n",
       "Distance from Residence to Work    -0.1279      0.041     -3.099      0.002      -0.209      -0.047\n",
       "Service time                       -0.0340      0.075     -0.454      0.650      -0.181       0.113\n",
       "Work load Average/day               0.1081      0.041      2.628      0.009       0.027       0.189\n",
       "Hit target                          0.0476      0.042      1.145      0.253      -0.034       0.129\n",
       "Height                              0.0201      0.049      0.408      0.683      -0.077       0.117\n",
       "Day of the week_0                   0.1123      0.027      4.110      0.000       0.059       0.166\n",
       "Day of the week_1                   0.0697      0.028      2.483      0.013       0.015       0.125\n",
       "Day of the week_2                   0.0700      0.029      2.381      0.018       0.012       0.128\n",
       "Day of the week_3                   0.0510      0.031      1.623      0.105      -0.011       0.113\n",
       "Day of the week_4                   0.0126      0.029      0.440      0.660      -0.044       0.069\n",
       "Social drinker_0.0                  0.1108      0.045      2.457      0.014       0.022       0.199\n",
       "Social drinker_1.0                  0.2048      0.058      3.555      0.000       0.092       0.318\n",
       "==============================================================================\n",
       "Omnibus:                      109.638   Durbin-Watson:                   1.976\n",
       "Prob(Omnibus):                  0.000   Jarque-Bera (JB):              175.722\n",
       "Skew:                           1.174   Prob(JB):                     6.96e-39\n",
       "Kurtosis:                       4.268   Cond. No.                     1.08e+16\n",
       "==============================================================================\n",
       "\n",
       "Warnings:\n",
       "[1] Standard Errors assume that the covariance matrix of the errors is correctly specified.\n",
       "[2] The smallest eigenvalue is 1.14e-29. This might indicate that there are\n",
       "strong multicollinearity problems or that the design matrix is singular.\n",
       "\"\"\""
      ]
     },
     "execution_count": 128,
     "metadata": {},
     "output_type": "execute_result"
    }
   ],
   "source": [
    "#3 Import libraries for LR\n",
    "import statsmodels.api as sm\n",
    "\n",
    "# Train the model using the training sets\n",
    "LRdataModel = sm.OLS(y_train,X_train)\n",
    "LRdataModel = LRdataModel.fit()\n",
    "LRpredictions = LRdataModel.predict(X_test)\n",
    "\n",
    "# Print out the statistics\n",
    "LRdataModel.summary()"
   ]
  },
  {
   "cell_type": "code",
   "execution_count": null,
   "metadata": {},
   "outputs": [],
   "source": []
  },
  {
   "cell_type": "markdown",
   "metadata": {},
   "source": [
    "Error Measure"
   ]
  },
  {
   "cell_type": "code",
   "execution_count": 129,
   "metadata": {},
   "outputs": [
    {
     "data": {
      "text/plain": [
       "0.20200674830926016"
      ]
     },
     "execution_count": 129,
     "metadata": {},
     "output_type": "execute_result"
    }
   ],
   "source": [
    "#Mean Absolute Error\n",
    "from sklearn.metrics import mean_absolute_error\n",
    "MeanAbsoluteError = mean_absolute_error(y_test,LRpredictions)\n",
    "MeanAbsoluteError"
   ]
  },
  {
   "cell_type": "code",
   "execution_count": 130,
   "metadata": {},
   "outputs": [
    {
     "data": {
      "text/plain": [
       "0.2635315644492806"
      ]
     },
     "execution_count": 130,
     "metadata": {},
     "output_type": "execute_result"
    }
   ],
   "source": [
    "#RMSE\n",
    "from sklearn.metrics import mean_squared_error\n",
    "from math import sqrt\n",
    "\n",
    "rms = sqrt(mean_squared_error(y_test, LRpredictions))\n",
    "rms"
   ]
  },
  {
   "cell_type": "code",
   "execution_count": 131,
   "metadata": {},
   "outputs": [],
   "source": [
    "#Cross Validation Technique\n",
    "#Sampling 4\n",
    "X_train,X_test,y_train,y_test = train_test_split(X,y,test_size=0.5,random_state = 6,)"
   ]
  },
  {
   "cell_type": "code",
   "execution_count": 132,
   "metadata": {},
   "outputs": [
    {
     "data": {
      "text/html": [
       "<table class=\"simpletable\">\n",
       "<caption>OLS Regression Results</caption>\n",
       "<tr>\n",
       "  <th>Dep. Variable:</th>    <td>Absenteeism time in hours</td> <th>  R-squared:         </th> <td>   0.049</td>\n",
       "</tr>\n",
       "<tr>\n",
       "  <th>Model:</th>                       <td>OLS</td>            <th>  Adj. R-squared:    </th> <td>   0.020</td>\n",
       "</tr>\n",
       "<tr>\n",
       "  <th>Method:</th>                 <td>Least Squares</td>       <th>  F-statistic:       </th> <td>   1.679</td>\n",
       "</tr>\n",
       "<tr>\n",
       "  <th>Date:</th>                 <td>Thu, 15 Nov 2018</td>      <th>  Prob (F-statistic):</th>  <td>0.0762</td> \n",
       "</tr>\n",
       "<tr>\n",
       "  <th>Time:</th>                     <td>00:26:25</td>          <th>  Log-Likelihood:    </th> <td> -21.980</td>\n",
       "</tr>\n",
       "<tr>\n",
       "  <th>No. Observations:</th>          <td>   370</td>           <th>  AIC:               </th> <td>   67.96</td>\n",
       "</tr>\n",
       "<tr>\n",
       "  <th>Df Residuals:</th>              <td>   358</td>           <th>  BIC:               </th> <td>   114.9</td>\n",
       "</tr>\n",
       "<tr>\n",
       "  <th>Df Model:</th>                  <td>    11</td>           <th>                     </th>     <td> </td>   \n",
       "</tr>\n",
       "<tr>\n",
       "  <th>Covariance Type:</th>          <td>nonrobust</td>         <th>                     </th>     <td> </td>   \n",
       "</tr>\n",
       "</table>\n",
       "<table class=\"simpletable\">\n",
       "<tr>\n",
       "                 <td></td>                    <th>coef</th>     <th>std err</th>      <th>t</th>      <th>P>|t|</th>  <th>[0.025</th>    <th>0.975]</th>  \n",
       "</tr>\n",
       "<tr>\n",
       "  <th>Transportation expense</th>          <td>    0.1146</td> <td>    0.061</td> <td>    1.875</td> <td> 0.062</td> <td>   -0.006</td> <td>    0.235</td>\n",
       "</tr>\n",
       "<tr>\n",
       "  <th>Distance from Residence to Work</th> <td>   -0.1026</td> <td>    0.053</td> <td>   -1.932</td> <td> 0.054</td> <td>   -0.207</td> <td>    0.002</td>\n",
       "</tr>\n",
       "<tr>\n",
       "  <th>Service time</th>                    <td>   -0.0720</td> <td>    0.105</td> <td>   -0.688</td> <td> 0.492</td> <td>   -0.278</td> <td>    0.134</td>\n",
       "</tr>\n",
       "<tr>\n",
       "  <th>Work load Average/day </th>          <td>    0.0594</td> <td>    0.053</td> <td>    1.115</td> <td> 0.266</td> <td>   -0.045</td> <td>    0.164</td>\n",
       "</tr>\n",
       "<tr>\n",
       "  <th>Hit target</th>                      <td>    0.0152</td> <td>    0.056</td> <td>    0.272</td> <td> 0.785</td> <td>   -0.094</td> <td>    0.125</td>\n",
       "</tr>\n",
       "<tr>\n",
       "  <th>Height</th>                          <td>    0.0179</td> <td>    0.062</td> <td>    0.289</td> <td> 0.772</td> <td>   -0.104</td> <td>    0.140</td>\n",
       "</tr>\n",
       "<tr>\n",
       "  <th>Day of the week_0</th>               <td>    0.1068</td> <td>    0.037</td> <td>    2.872</td> <td> 0.004</td> <td>    0.034</td> <td>    0.180</td>\n",
       "</tr>\n",
       "<tr>\n",
       "  <th>Day of the week_1</th>               <td>    0.0994</td> <td>    0.037</td> <td>    2.689</td> <td> 0.008</td> <td>    0.027</td> <td>    0.172</td>\n",
       "</tr>\n",
       "<tr>\n",
       "  <th>Day of the week_2</th>               <td>    0.0793</td> <td>    0.039</td> <td>    2.026</td> <td> 0.043</td> <td>    0.002</td> <td>    0.156</td>\n",
       "</tr>\n",
       "<tr>\n",
       "  <th>Day of the week_3</th>               <td>    0.0847</td> <td>    0.040</td> <td>    2.142</td> <td> 0.033</td> <td>    0.007</td> <td>    0.162</td>\n",
       "</tr>\n",
       "<tr>\n",
       "  <th>Day of the week_4</th>               <td>    0.0398</td> <td>    0.039</td> <td>    1.033</td> <td> 0.302</td> <td>   -0.036</td> <td>    0.116</td>\n",
       "</tr>\n",
       "<tr>\n",
       "  <th>Social drinker_0.0</th>              <td>    0.1623</td> <td>    0.060</td> <td>    2.703</td> <td> 0.007</td> <td>    0.044</td> <td>    0.280</td>\n",
       "</tr>\n",
       "<tr>\n",
       "  <th>Social drinker_1.0</th>              <td>    0.2477</td> <td>    0.077</td> <td>    3.223</td> <td> 0.001</td> <td>    0.097</td> <td>    0.399</td>\n",
       "</tr>\n",
       "</table>\n",
       "<table class=\"simpletable\">\n",
       "<tr>\n",
       "  <th>Omnibus:</th>       <td>70.241</td> <th>  Durbin-Watson:     </th> <td>   2.121</td>\n",
       "</tr>\n",
       "<tr>\n",
       "  <th>Prob(Omnibus):</th> <td> 0.000</td> <th>  Jarque-Bera (JB):  </th> <td> 107.865</td>\n",
       "</tr>\n",
       "<tr>\n",
       "  <th>Skew:</th>          <td> 1.188</td> <th>  Prob(JB):          </th> <td>3.78e-24</td>\n",
       "</tr>\n",
       "<tr>\n",
       "  <th>Kurtosis:</th>      <td> 4.161</td> <th>  Cond. No.          </th> <td>1.08e+16</td>\n",
       "</tr>\n",
       "</table><br/><br/>Warnings:<br/>[1] Standard Errors assume that the covariance matrix of the errors is correctly specified.<br/>[2] The smallest eigenvalue is 7.13e-30. This might indicate that there are<br/>strong multicollinearity problems or that the design matrix is singular."
      ],
      "text/plain": [
       "<class 'statsmodels.iolib.summary.Summary'>\n",
       "\"\"\"\n",
       "                                OLS Regression Results                               \n",
       "=====================================================================================\n",
       "Dep. Variable:     Absenteeism time in hours   R-squared:                       0.049\n",
       "Model:                                   OLS   Adj. R-squared:                  0.020\n",
       "Method:                        Least Squares   F-statistic:                     1.679\n",
       "Date:                       Thu, 15 Nov 2018   Prob (F-statistic):             0.0762\n",
       "Time:                               00:26:25   Log-Likelihood:                -21.980\n",
       "No. Observations:                        370   AIC:                             67.96\n",
       "Df Residuals:                            358   BIC:                             114.9\n",
       "Df Model:                                 11                                         \n",
       "Covariance Type:                   nonrobust                                         \n",
       "===================================================================================================\n",
       "                                      coef    std err          t      P>|t|      [0.025      0.975]\n",
       "---------------------------------------------------------------------------------------------------\n",
       "Transportation expense              0.1146      0.061      1.875      0.062      -0.006       0.235\n",
       "Distance from Residence to Work    -0.1026      0.053     -1.932      0.054      -0.207       0.002\n",
       "Service time                       -0.0720      0.105     -0.688      0.492      -0.278       0.134\n",
       "Work load Average/day               0.0594      0.053      1.115      0.266      -0.045       0.164\n",
       "Hit target                          0.0152      0.056      0.272      0.785      -0.094       0.125\n",
       "Height                              0.0179      0.062      0.289      0.772      -0.104       0.140\n",
       "Day of the week_0                   0.1068      0.037      2.872      0.004       0.034       0.180\n",
       "Day of the week_1                   0.0994      0.037      2.689      0.008       0.027       0.172\n",
       "Day of the week_2                   0.0793      0.039      2.026      0.043       0.002       0.156\n",
       "Day of the week_3                   0.0847      0.040      2.142      0.033       0.007       0.162\n",
       "Day of the week_4                   0.0398      0.039      1.033      0.302      -0.036       0.116\n",
       "Social drinker_0.0                  0.1623      0.060      2.703      0.007       0.044       0.280\n",
       "Social drinker_1.0                  0.2477      0.077      3.223      0.001       0.097       0.399\n",
       "==============================================================================\n",
       "Omnibus:                       70.241   Durbin-Watson:                   2.121\n",
       "Prob(Omnibus):                  0.000   Jarque-Bera (JB):              107.865\n",
       "Skew:                           1.188   Prob(JB):                     3.78e-24\n",
       "Kurtosis:                       4.161   Cond. No.                     1.08e+16\n",
       "==============================================================================\n",
       "\n",
       "Warnings:\n",
       "[1] Standard Errors assume that the covariance matrix of the errors is correctly specified.\n",
       "[2] The smallest eigenvalue is 7.13e-30. This might indicate that there are\n",
       "strong multicollinearity problems or that the design matrix is singular.\n",
       "\"\"\""
      ]
     },
     "execution_count": 132,
     "metadata": {},
     "output_type": "execute_result"
    }
   ],
   "source": [
    "# Train the model using the training sets\n",
    "LRdataModel = sm.OLS(y_train,X_train)\n",
    "LRdataModel = LRdataModel.fit()\n",
    "LRpredictions = LRdataModel.predict(X_test)\n",
    "\n",
    "# Print out the statistics\n",
    "LRdataModel.summary()"
   ]
  },
  {
   "cell_type": "code",
   "execution_count": 2,
   "metadata": {},
   "outputs": [
    {
     "ename": "NameError",
     "evalue": "name 'y_test' is not defined",
     "output_type": "error",
     "traceback": [
      "\u001b[0;31m---------------------------------------------------------------------------\u001b[0m",
      "\u001b[0;31mNameError\u001b[0m                                 Traceback (most recent call last)",
      "\u001b[0;32m<ipython-input-2-2a89491567c5>\u001b[0m in \u001b[0;36m<module>\u001b[0;34m()\u001b[0m\n\u001b[1;32m      1\u001b[0m \u001b[0;31m#Mean Absolute Error\u001b[0m\u001b[0;34m\u001b[0m\u001b[0;34m\u001b[0m\u001b[0m\n\u001b[1;32m      2\u001b[0m \u001b[0;32mfrom\u001b[0m \u001b[0msklearn\u001b[0m\u001b[0;34m.\u001b[0m\u001b[0mmetrics\u001b[0m \u001b[0;32mimport\u001b[0m \u001b[0mmean_absolute_error\u001b[0m\u001b[0;34m\u001b[0m\u001b[0m\n\u001b[0;32m----> 3\u001b[0;31m \u001b[0mMeanAbsoluteError\u001b[0m \u001b[0;34m=\u001b[0m \u001b[0mmean_absolute_error\u001b[0m\u001b[0;34m(\u001b[0m\u001b[0my_test\u001b[0m\u001b[0;34m,\u001b[0m\u001b[0mLRpredictions\u001b[0m\u001b[0;34m)\u001b[0m\u001b[0;34m\u001b[0m\u001b[0m\n\u001b[0m\u001b[1;32m      4\u001b[0m \u001b[0mMeanAbsoluteError\u001b[0m\u001b[0;34m\u001b[0m\u001b[0m\n",
      "\u001b[0;31mNameError\u001b[0m: name 'y_test' is not defined"
     ]
    }
   ],
   "source": [
    "#Mean Absolute Error\n",
    "from sklearn.metrics import mean_absolute_error\n",
    "MeanAbsoluteError = mean_absolute_error(y_test,LRpredictions)\n",
    "MeanAbsoluteError"
   ]
  },
  {
   "cell_type": "code",
   "execution_count": 1,
   "metadata": {},
   "outputs": [
    {
     "ename": "NameError",
     "evalue": "name 'MeanAbsoluteError' is not defined",
     "output_type": "error",
     "traceback": [
      "\u001b[0;31m---------------------------------------------------------------------------\u001b[0m",
      "\u001b[0;31mNameError\u001b[0m                                 Traceback (most recent call last)",
      "\u001b[0;32m<ipython-input-1-6026d2b34b0a>\u001b[0m in \u001b[0;36m<module>\u001b[0;34m()\u001b[0m\n\u001b[1;32m      1\u001b[0m \u001b[0;31m#Mean Absolute percentage error\u001b[0m\u001b[0;34m\u001b[0m\u001b[0;34m\u001b[0m\u001b[0m\n\u001b[0;32m----> 2\u001b[0;31m \u001b[0mMeanAbsolutePercentageError\u001b[0m \u001b[0;34m=\u001b[0m \u001b[0mMeanAbsoluteError\u001b[0m \u001b[0;34m/\u001b[0m \u001b[0my_test\u001b[0m\u001b[0;34m\u001b[0m\u001b[0m\n\u001b[0m\u001b[1;32m      3\u001b[0m \u001b[0mMeanAbsolutePercentageError\u001b[0m\u001b[0;34m\u001b[0m\u001b[0m\n",
      "\u001b[0;31mNameError\u001b[0m: name 'MeanAbsoluteError' is not defined"
     ]
    }
   ],
   "source": []
  },
  {
   "cell_type": "code",
   "execution_count": 134,
   "metadata": {},
   "outputs": [
    {
     "data": {
      "text/plain": [
       "0.25237816057758955"
      ]
     },
     "execution_count": 134,
     "metadata": {},
     "output_type": "execute_result"
    }
   ],
   "source": [
    "#RMSE\n",
    "from sklearn.metrics import mean_squared_error\n",
    "from math import sqrt\n",
    "\n",
    "rms = sqrt(mean_squared_error(y_test, LRpredictions))\n",
    "rms"
   ]
  },
  {
   "cell_type": "code",
   "execution_count": 135,
   "metadata": {},
   "outputs": [],
   "source": [
    "#1 Decision Tree"
   ]
  },
  {
   "cell_type": "code",
   "execution_count": 136,
   "metadata": {},
   "outputs": [],
   "source": [
    "#convert categorical  variables to codes, So that we can easily compute and impute easily\n",
    "for i in range(0,DataSet.shape[1]):\n",
    "    if(DataSet.iloc[:,i].dtypes == 'object'):\n",
    "        DataSet.iloc[:,i] = pd.Categorical(dataset.iloc[:,i])\n",
    "        dataset.iloc[:,i] = dataset.iloc[:,i].cat.codes\n",
    "        "
   ]
  },
  {
   "cell_type": "code",
   "execution_count": 137,
   "metadata": {},
   "outputs": [],
   "source": [
    "#Split dataset\n",
    "from sklearn.model_selection import train_test_split\n",
    "X = DataSet[DataSet.columns]\n",
    "#Creating Target variable and dropping target variable from dataset\n",
    "y = DataSet['Absenteeism time in hours']\n",
    "DataSet=DataSet.drop('Absenteeism time in hours',axis=1)"
   ]
  },
  {
   "cell_type": "code",
   "execution_count": 138,
   "metadata": {},
   "outputs": [],
   "source": [
    "#Sampling \n",
    "X_train,X_test,y_train,y_test = train_test_split(X,y,test_size=0.2,random_state = 6)"
   ]
  },
  {
   "cell_type": "code",
   "execution_count": 139,
   "metadata": {},
   "outputs": [],
   "source": [
    "#Applying Model\n",
    "\n",
    "from sklearn.tree import DecisionTreeRegressor\n",
    "DataModel = DecisionTreeRegressor(random_state =6,max_depth=2)\n",
    "DataModel = DataModel.fit(X_train,y_train)\n",
    "predictions = DataModel.predict(X_test)"
   ]
  },
  {
   "cell_type": "code",
   "execution_count": 140,
   "metadata": {},
   "outputs": [],
   "source": [
    "#Create dot file to visualise tree  #http://webgraphviz.com/\n",
    "from sklearn import tree\n",
    "df = tree.export_graphviz(DataModel, out_file='tree1.dot' ,feature_names = X.columns)"
   ]
  },
  {
   "cell_type": "code",
   "execution_count": 141,
   "metadata": {},
   "outputs": [
    {
     "data": {
      "text/plain": [
       "0.026607381360232097"
      ]
     },
     "execution_count": 141,
     "metadata": {},
     "output_type": "execute_result"
    }
   ],
   "source": [
    "#Mean Absolute Error\n",
    "from sklearn.metrics import mean_absolute_error\n",
    "MeanAbsoluteError = mean_absolute_error(y_test,predictions)\n",
    "MeanAbsoluteError"
   ]
  },
  {
   "cell_type": "code",
   "execution_count": 142,
   "metadata": {},
   "outputs": [
    {
     "data": {
      "text/plain": [
       "0.03333931627847547"
      ]
     },
     "execution_count": 142,
     "metadata": {},
     "output_type": "execute_result"
    }
   ],
   "source": [
    "#RMSE\n",
    "rms = sqrt(mean_squared_error(y_test, predictions))\n",
    "rms"
   ]
  },
  {
   "cell_type": "code",
   "execution_count": 143,
   "metadata": {},
   "outputs": [],
   "source": [
    "#2 RandomForest"
   ]
  },
  {
   "cell_type": "code",
   "execution_count": 144,
   "metadata": {},
   "outputs": [],
   "source": [
    "#Sampling \n",
    "X_train,X_test,y_train,y_test = train_test_split(X,y,test_size=0.2,random_state = 6)"
   ]
  },
  {
   "cell_type": "code",
   "execution_count": 145,
   "metadata": {},
   "outputs": [],
   "source": [
    "## 2 RandomForest\n",
    "from sklearn.ensemble import RandomForestRegressor\n",
    "DataModel_RF = RandomForestRegressor(random_state=7, max_depth=3, n_estimators=300)\n",
    "DataModel_RF = DataModel_RF.fit(X_train,y_train)\n",
    "RFpredictions = DataModel_RF.predict(X_test)"
   ]
  },
  {
   "cell_type": "code",
   "execution_count": 146,
   "metadata": {},
   "outputs": [
    {
     "data": {
      "text/plain": [
       "0.008319121519228275"
      ]
     },
     "execution_count": 146,
     "metadata": {},
     "output_type": "execute_result"
    }
   ],
   "source": [
    "#Mean Absolute Error\n",
    "from sklearn.metrics import mean_absolute_error\n",
    "MeanAbsoluteError = mean_absolute_error(y_test,RFpredictions)\n",
    "MeanAbsoluteError"
   ]
  },
  {
   "cell_type": "code",
   "execution_count": 147,
   "metadata": {},
   "outputs": [
    {
     "data": {
      "text/plain": [
       "0.014646776110099001"
      ]
     },
     "execution_count": 147,
     "metadata": {},
     "output_type": "execute_result"
    }
   ],
   "source": [
    "#RMSE\n",
    "rms = sqrt(mean_squared_error(y_test, RFpredictions))\n",
    "rms"
   ]
  },
  {
   "cell_type": "markdown",
   "metadata": {},
   "source": [
    "KNN Model"
   ]
  },
  {
   "cell_type": "code",
   "execution_count": 148,
   "metadata": {},
   "outputs": [],
   "source": [
    "#Sampling \n",
    "X_train,X_test,y_train,y_test = train_test_split(X,y,test_size=0.2,random_state = 6)"
   ]
  },
  {
   "cell_type": "code",
   "execution_count": 149,
   "metadata": {},
   "outputs": [],
   "source": [
    "#4 KNN implementation\n",
    "from sklearn.neighbors import KNeighborsRegressor\n",
    "KNN_Model = KNeighborsRegressor()\n",
    "KNN_Model = KNN_Model.fit(X_train,y_train)\n",
    "KNNpredictions = KNN_Model.predict(X_test)"
   ]
  },
  {
   "cell_type": "code",
   "execution_count": 150,
   "metadata": {},
   "outputs": [
    {
     "data": {
      "text/plain": [
       "0.10468032502739649"
      ]
     },
     "execution_count": 150,
     "metadata": {},
     "output_type": "execute_result"
    }
   ],
   "source": [
    "#Mean Absolute Error\n",
    "from sklearn.metrics import mean_absolute_error\n",
    "MeanAbsoluteError = mean_absolute_error(y_test,KNNpredictions)\n",
    "MeanAbsoluteError"
   ]
  },
  {
   "cell_type": "code",
   "execution_count": 151,
   "metadata": {},
   "outputs": [
    {
     "data": {
      "text/plain": [
       "0.14775234583731964"
      ]
     },
     "execution_count": 151,
     "metadata": {},
     "output_type": "execute_result"
    }
   ],
   "source": [
    "#RMSE\n",
    "rms = sqrt(mean_squared_error(y_test, KNNpredictions))\n",
    "rms"
   ]
  },
  {
   "cell_type": "markdown",
   "metadata": {},
   "source": [
    "Random Forest"
   ]
  },
  {
   "cell_type": "code",
   "execution_count": 152,
   "metadata": {},
   "outputs": [],
   "source": [
    "from sklearn.ensemble import RandomForestRegressor\n",
    "DataModel_RF = RandomForestRegressor(random_state=7, max_depth=3, n_estimators=300)\n",
    "DataModel_RF = DataModel_RF.fit(X_train,y_train)\n",
    "RFpredictions = DataModel_RF.predict(X)"
   ]
  },
  {
   "cell_type": "code",
   "execution_count": 153,
   "metadata": {},
   "outputs": [],
   "source": [
    "#Creating output file for Testdata\n",
    "DataTestFinal= pd.read_excel(\"Absenteeism_at_work_Project.xls\")\n"
   ]
  },
  {
   "cell_type": "code",
   "execution_count": 154,
   "metadata": {},
   "outputs": [],
   "source": [
    "#Creating output file for Testdata\n",
    "DataTestFinal= pd.read_excel(\"Absenteeism_at_work_Project.xls\")\n",
    "\n",
    "\n",
    "#Creating output file for Testdata\n",
    "df_output = pd.DataFrame()\n",
    "df_output[DataTestFinal.columns] = DataTestFinal[DataTestFinal.columns]\n",
    "df_output['Predicted_Absenteeism'] = RFpredictions\n",
    "df_output.to_csv('Absenteeism_Output.csv',index=False)\n",
    "\n",
    "\n"
   ]
  },
  {
   "cell_type": "markdown",
   "metadata": {},
   "source": [
    "Scatter plot showing Loss Per Month"
   ]
  },
  {
   "cell_type": "code",
   "execution_count": null,
   "metadata": {},
   "outputs": [],
   "source": [
    "#Scatter plot for\n",
    "#creating dictionary dict for holding important independent variables\n",
    "dict = {\n",
    "   'Transportation expense': 'red',\n",
    "    'Distance from Residence to Work':'blue',\n",
    "    'Service time': 'green'  ,\n",
    "    'Height':'pink'           ,\n",
    "    'Work load Average/day' : 'yellow'   ,\n",
    "    'Hit target' : 'magenta'       ,\n",
    "    'Day of the week' :  'black',\n",
    "    'Social drinker' : 'orange'\n",
    "}\n",
    "\n",
    "#Creating list to hold dict values\n",
    "col = []\n",
    "for i in dict :\n",
    "    col.append(dict[i])"
   ]
  },
  {
   "cell_type": "code",
   "execution_count": null,
   "metadata": {},
   "outputs": [],
   "source": [
    "#Creating a new dataframe df\n",
    "df = pd.DataFrame(dataset['Absenteeism time in hours'])\n",
    "if(df.iloc[:,0].dtypes=='object'):\n",
    "    df.iloc[:,0]=pd.Categorical(df.iloc[:,0])\n",
    "    df.iloc[:,0] = df.iloc[:,0].cat.codes      "
   ]
  },
  {
   "cell_type": "code",
   "execution_count": null,
   "metadata": {},
   "outputs": [],
   "source": [
    "#Scatter plot between 'Absenteeism time in hours' , 'Month of absence' and using cols and pop to show intensity of absenteeism as per featues and per month\n",
    "import matplotlib.pyplot as plt\n",
    "pop = dataset['Absenteeism time in hours']\n",
    "plt.scatter(df['Absenteeism time in hours'], dataset['Month of absence'],c = col , s = np.array(pop) * 20 , alpha=0.8)\n",
    "plt.xlabel('Absenteeism time in hours')\n",
    "plt.ylabel('Month of absence')\n",
    "plt.show()"
   ]
  },
  {
   "cell_type": "code",
   "execution_count": null,
   "metadata": {},
   "outputs": [],
   "source": []
  },
  {
   "cell_type": "code",
   "execution_count": null,
   "metadata": {
    "scrolled": true
   },
   "outputs": [],
   "source": []
  }
 ],
 "metadata": {
  "kernelspec": {
   "display_name": "Python 3",
   "language": "python",
   "name": "python3"
  },
  "language_info": {
   "codemirror_mode": {
    "name": "ipython",
    "version": 3
   },
   "file_extension": ".py",
   "mimetype": "text/x-python",
   "name": "python",
   "nbconvert_exporter": "python",
   "pygments_lexer": "ipython3",
   "version": "3.6.5"
  }
 },
 "nbformat": 4,
 "nbformat_minor": 2
}
