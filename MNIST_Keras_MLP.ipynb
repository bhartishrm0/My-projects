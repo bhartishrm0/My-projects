{
 "cells": [
  {
   "cell_type": "code",
   "execution_count": 1,
   "metadata": {},
   "outputs": [
    {
     "name": "stderr",
     "output_type": "stream",
     "text": [
      "Using TensorFlow backend.\n"
     ]
    }
   ],
   "source": [
    "#import Libraries\n",
    "import pandas as pd\n",
    "import numpy as np\n",
    "import matplotlib.pyplot as plt\n",
    "\n",
    "from keras.models import Sequential\n",
    "from keras.layers.core import Dense,Activation,Dropout\n",
    "from keras.datasets import mnist\n",
    "from keras.utils import np_utils\n",
    "from sklearn.model_selection import train_test_split"
   ]
  },
  {
   "cell_type": "code",
   "execution_count": 2,
   "metadata": {},
   "outputs": [],
   "source": [
    "#User Inputs\n",
    "epoch = 25\n",
    "img_size = 784\n",
    "output_classes = 10\n",
    "batch_size = 128\n",
    "train_size = 60000\n",
    "test_size = 10000"
   ]
  },
  {
   "cell_type": "code",
   "execution_count": 3,
   "metadata": {},
   "outputs": [
    {
     "data": {
      "text/plain": [
       "(60000, 28, 28)"
      ]
     },
     "execution_count": 3,
     "metadata": {},
     "output_type": "execute_result"
    }
   ],
   "source": [
    "#Prepare dataset\n",
    "(TrainData , TrainLabels) ,(TestData , TestLabels) = mnist.load_data()\n",
    "TrainData.shape"
   ]
  },
  {
   "cell_type": "code",
   "execution_count": 4,
   "metadata": {},
   "outputs": [],
   "source": [
    "#reshape the dataset\n",
    "TrainData = TrainData.reshape(train_size , img_size)\n",
    "TrainData = TrainData.astype('float32')\n",
    "TrainData = TrainData / 255\n",
    "\n",
    "TestData = TestData.reshape(test_size , img_size)\n",
    "TestData =TestData.astype('float32')\n",
    "TestData = TestData/255"
   ]
  },
  {
   "cell_type": "code",
   "execution_count": 5,
   "metadata": {},
   "outputs": [],
   "source": [
    "#Reshape target class with one hot encoding\n",
    "encoded_TrainLabels = np_utils.to_categorical(TrainLabels)\n",
    "encoded_TestLabels = np_utils.to_categorical(TestLabels)"
   ]
  },
  {
   "cell_type": "code",
   "execution_count": 6,
   "metadata": {},
   "outputs": [],
   "source": [
    "#create a validation set\n",
    "X = TrainData\n",
    "y = encoded_TrainLabels\n",
    "train_x,val_x,train_y,val_y = train_test_split(X,y,test_size = 0.2)"
   ]
  },
  {
   "cell_type": "code",
   "execution_count": 7,
   "metadata": {},
   "outputs": [
    {
     "data": {
      "text/plain": [
       "(12000, 784)"
      ]
     },
     "execution_count": 7,
     "metadata": {},
     "output_type": "execute_result"
    }
   ],
   "source": [
    "train_x.shape\n",
    "val_x.shape"
   ]
  },
  {
   "cell_type": "code",
   "execution_count": 8,
   "metadata": {},
   "outputs": [],
   "source": [
    "#Create the model\n",
    "model = Sequential()\n",
    "#layer_1\n",
    "model.add(Dense(512,))\n",
    "model.add(Activation('relu'))\n",
    "model.add(Dropout(0.2))\n",
    "#layer_2\n",
    "model.add(Dense(512,))\n",
    "model.add(Activation('relu'))\n",
    "model.add(Dropout(0.2))\n",
    "\n",
    "model.add(Dense(output_classes))\n",
    "model.add(Activation('softmax'))\n"
   ]
  },
  {
   "cell_type": "code",
   "execution_count": 9,
   "metadata": {},
   "outputs": [],
   "source": [
    "#Compile the model\n",
    "model.compile(loss='categorical_crossentropy',optimizer = 'adam' , metrics = ['accuracy'])"
   ]
  },
  {
   "cell_type": "code",
   "execution_count": 10,
   "metadata": {},
   "outputs": [
    {
     "name": "stderr",
     "output_type": "stream",
     "text": [
      "/Users/bhartisharma/anaconda3/lib/python3.6/site-packages/ipykernel_launcher.py:5: UserWarning: The `nb_epoch` argument in `fit` has been renamed `epochs`.\n",
      "  \"\"\"\n"
     ]
    },
    {
     "name": "stdout",
     "output_type": "stream",
     "text": [
      "Train on 48000 samples, validate on 12000 samples\n",
      "Epoch 1/25\n",
      " - 7s - loss: 0.2758 - acc: 0.9176 - val_loss: 0.1245 - val_acc: 0.9607\n",
      "Epoch 2/25\n",
      " - 7s - loss: 0.1142 - acc: 0.9651 - val_loss: 0.0962 - val_acc: 0.9711\n",
      "Epoch 3/25\n",
      " - 7s - loss: 0.0783 - acc: 0.9754 - val_loss: 0.0782 - val_acc: 0.9773\n",
      "Epoch 4/25\n",
      " - 8s - loss: 0.0619 - acc: 0.9799 - val_loss: 0.0686 - val_acc: 0.9804\n",
      "Epoch 5/25\n",
      " - 7s - loss: 0.0490 - acc: 0.9839 - val_loss: 0.0772 - val_acc: 0.9776\n",
      "Epoch 6/25\n",
      " - 7s - loss: 0.0423 - acc: 0.9863 - val_loss: 0.0676 - val_acc: 0.9817\n",
      "Epoch 7/25\n",
      " - 7s - loss: 0.0362 - acc: 0.9875 - val_loss: 0.0695 - val_acc: 0.9803\n",
      "Epoch 8/25\n",
      " - 7s - loss: 0.0312 - acc: 0.9897 - val_loss: 0.0786 - val_acc: 0.9784\n",
      "Epoch 9/25\n",
      " - 7s - loss: 0.0264 - acc: 0.9909 - val_loss: 0.0820 - val_acc: 0.9783\n",
      "Epoch 10/25\n",
      " - 7s - loss: 0.0295 - acc: 0.9902 - val_loss: 0.0771 - val_acc: 0.9810\n",
      "Epoch 11/25\n",
      " - 6s - loss: 0.0250 - acc: 0.9913 - val_loss: 0.0788 - val_acc: 0.9805\n",
      "Epoch 12/25\n",
      " - 7s - loss: 0.0202 - acc: 0.9931 - val_loss: 0.0872 - val_acc: 0.9798\n",
      "Epoch 13/25\n",
      " - 6s - loss: 0.0239 - acc: 0.9923 - val_loss: 0.0824 - val_acc: 0.9800\n",
      "Epoch 14/25\n",
      " - 6s - loss: 0.0190 - acc: 0.9932 - val_loss: 0.0953 - val_acc: 0.9797\n",
      "Epoch 15/25\n",
      " - 6s - loss: 0.0189 - acc: 0.9934 - val_loss: 0.0764 - val_acc: 0.9822\n",
      "Epoch 16/25\n",
      " - 6s - loss: 0.0176 - acc: 0.9942 - val_loss: 0.0789 - val_acc: 0.9822\n",
      "Epoch 17/25\n",
      " - 6s - loss: 0.0200 - acc: 0.9932 - val_loss: 0.0767 - val_acc: 0.9835\n",
      "Epoch 18/25\n",
      " - 6s - loss: 0.0146 - acc: 0.9952 - val_loss: 0.0777 - val_acc: 0.9837\n",
      "Epoch 19/25\n",
      " - 7s - loss: 0.0165 - acc: 0.9944 - val_loss: 0.0936 - val_acc: 0.9811\n",
      "Epoch 20/25\n",
      " - 7s - loss: 0.0191 - acc: 0.9937 - val_loss: 0.0921 - val_acc: 0.9817\n",
      "Epoch 21/25\n",
      " - 7s - loss: 0.0158 - acc: 0.9948 - val_loss: 0.0777 - val_acc: 0.9841\n",
      "Epoch 22/25\n",
      " - 7s - loss: 0.0107 - acc: 0.9966 - val_loss: 0.0920 - val_acc: 0.9818\n",
      "Epoch 23/25\n",
      " - 7s - loss: 0.0140 - acc: 0.9949 - val_loss: 0.0891 - val_acc: 0.9841\n",
      "Epoch 24/25\n",
      " - 7s - loss: 0.0154 - acc: 0.9951 - val_loss: 0.0813 - val_acc: 0.9828\n",
      "Epoch 25/25\n",
      " - 7s - loss: 0.0139 - acc: 0.9956 - val_loss: 0.0910 - val_acc: 0.9818\n"
     ]
    }
   ],
   "source": [
    "#Fit the model\n",
    "Trained_Model = model.fit(train_x,train_y,\n",
    "                          validation_data =(val_x,val_y),\n",
    "                          batch_size = batch_size ,\n",
    "                          nb_epoch = epoch , verbose =2) "
   ]
  },
  {
   "cell_type": "code",
   "execution_count": 11,
   "metadata": {},
   "outputs": [
    {
     "name": "stdout",
     "output_type": "stream",
     "text": [
      "dict_keys(['val_loss', 'val_acc', 'loss', 'acc'])\n",
      "Test Score 0.09104111480819013\n",
      "Test Accuracy 0.9818333333333333\n"
     ]
    }
   ],
   "source": [
    "#model Evaluation\n",
    "\n",
    "#Print history keys\n",
    "print(Trained_Model.history.keys())\n",
    "\n",
    "#Evaluate Model\n",
    "scores = model.evaluate(val_x,val_y,verbose = 0)\n",
    "\n",
    "print(\"Test Score\",scores[0])\n",
    "print(\"Test Accuracy\",scores[1])"
   ]
  },
  {
   "cell_type": "code",
   "execution_count": 12,
   "metadata": {},
   "outputs": [
    {
     "data": {
      "image/png": "[encoded data removed]",
      "text/plain": [
       "<Figure size 432x288 with 1 Axes>"
      ]
     },
     "metadata": {},
     "output_type": "display_data"
    }
   ],
   "source": [
    "#history plot for acc and val_acc\n",
    "plt.plot(Trained_Model.history['acc'])\n",
    "plt.plot(Trained_Model.history['val_acc'])\n",
    "plt.xlabel('Epoch')\n",
    "plt.ylabel('Accuracy')\n",
    "plt.title('Model Accuracy')\n",
    "plt.legend(['train','test'],loc='upper left')\n",
    "plt.show()"
   ]
  },
  {
   "cell_type": "code",
   "execution_count": 13,
   "metadata": {},
   "outputs": [
    {
     "data": {
      "image/png": "[encoded data removed]",
      "text/plain": [
       "<Figure size 432x288 with 1 Axes>"
      ]
     },
     "metadata": {},
     "output_type": "display_data"
    }
   ],
   "source": [
    "#History plot for loss and val_loss\n",
    "plt.plot(Trained_Model.history['loss'])\n",
    "plt.plot(Trained_Model.history['val_loss'])\n",
    "plt.xlabel('Epoch')\n",
    "plt.ylabel('Loss')\n",
    "plt.title('Model Loss')\n",
    "plt.legend(['train','test'],loc='upper left')\n",
    "plt.show()"
   ]
  },
  {
   "cell_type": "code",
   "execution_count": 14,
   "metadata": {},
   "outputs": [
    {
     "name": "stdout",
     "output_type": "stream",
     "text": [
      "[2]\n",
      "[1]\n",
      "[0]\n",
      "[4]\n"
     ]
    },
    {
     "data": {
      "image/png": "[encoded data removed]",
      "text/plain": [
       "<Figure size 432x288 with 4 Axes>"
      ]
     },
     "metadata": {},
     "output_type": "display_data"
    }
   ],
   "source": [
    "#Model Testing\n",
    "#taking some images from test data\n",
    "test_images = TestData[1:5]\n",
    "\n",
    "# reshape the test images to standard 28x28 format\n",
    "test_images = test_images.reshape(test_images.shape[0], 28, 28)\n",
    "\n",
    "\n",
    "# loop over each of the test images\n",
    "for i, test_image in enumerate(test_images, start=1):\n",
    "    # grab a copy of test image for viewing\n",
    "    org_image = test_image\n",
    "    # reshape the test image to [1x784] format so that our model understands\n",
    "    test_image = test_image.reshape(1,784)\n",
    "    prediction = model.predict_classes(test_image,verbose=0)\n",
    "    print(prediction)\n",
    "    # display the prediction and image\n",
    "    plt.subplot(220+i)\n",
    "    plt.imshow(org_image, cmap=plt.get_cmap('gray'))\n",
    "\n"
   ]
  },
  {
   "cell_type": "code",
   "execution_count": null,
   "metadata": {},
   "outputs": [],
   "source": []
  },
  {
   "cell_type": "code",
   "execution_count": null,
   "metadata": {},
   "outputs": [],
   "source": []
  },
  {
   "cell_type": "code",
   "execution_count": null,
   "metadata": {},
   "outputs": [],
   "source": []
  },
  {
   "cell_type": "code",
   "execution_count": null,
   "metadata": {},
   "outputs": [],
   "source": []
  }
 ],
 "metadata": {
  "kernelspec": {
   "display_name": "Python 3",
   "language": "python",
   "name": "python3"
  },
  "language_info": {
   "codemirror_mode": {
    "name": "ipython",
    "version": 3
   },
   "file_extension": ".py",
   "mimetype": "text/x-python",
   "name": "python",
   "nbconvert_exporter": "python",
   "pygments_lexer": "ipython3",
   "version": "3.6.5"
  }
 },
 "nbformat": 4,
 "nbformat_minor": 2
}
